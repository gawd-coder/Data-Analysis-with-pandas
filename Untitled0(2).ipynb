{
  "nbformat": 4,
  "nbformat_minor": 0,
  "metadata": {
    "colab": {
      "name": "Untitled0.ipynb",
      "provenance": [],
      "collapsed_sections": []
    },
    "kernelspec": {
      "name": "python3",
      "display_name": "Python 3"
    }
  },
  "cells": [
    {
      "cell_type": "markdown",
      "metadata": {
        "id": "_8v365vZ88w1",
        "colab_type": "text"
      },
      "source": [
        "On a fundamental level, the DataFrame class is designed to manage indexed\n",
        "and labeled data, not too different from a SQL database table or a worksheet\n",
        "in a spreadsheet application."
      ]
    },
    {
      "cell_type": "code",
      "metadata": {
        "id": "uo5-ulln1yb9",
        "colab_type": "code",
        "colab": {}
      },
      "source": [
        "import pandas as pd"
      ],
      "execution_count": null,
      "outputs": []
    },
    {
      "cell_type": "code",
      "metadata": {
        "id": "vgQIvVlg9Py1",
        "colab_type": "code",
        "colab": {
          "base_uri": "https://localhost:8080/",
          "height": 175
        },
        "outputId": "6b0b6d7a-26a5-418b-c966-be0df41b269a"
      },
      "source": [
        "df = pd.DataFrame([10,20,30,40], columns = ['numbers'], index = ['a', 'b', 'c', 'd'])\n",
        "df"
      ],
      "execution_count": null,
      "outputs": [
        {
          "output_type": "execute_result",
          "data": {
            "text/html": [
              "<div>\n",
              "<style scoped>\n",
              "    .dataframe tbody tr th:only-of-type {\n",
              "        vertical-align: middle;\n",
              "    }\n",
              "\n",
              "    .dataframe tbody tr th {\n",
              "        vertical-align: top;\n",
              "    }\n",
              "\n",
              "    .dataframe thead th {\n",
              "        text-align: right;\n",
              "    }\n",
              "</style>\n",
              "<table border=\"1\" class=\"dataframe\">\n",
              "  <thead>\n",
              "    <tr style=\"text-align: right;\">\n",
              "      <th></th>\n",
              "      <th>numbers</th>\n",
              "    </tr>\n",
              "  </thead>\n",
              "  <tbody>\n",
              "    <tr>\n",
              "      <th>a</th>\n",
              "      <td>10</td>\n",
              "    </tr>\n",
              "    <tr>\n",
              "      <th>b</th>\n",
              "      <td>20</td>\n",
              "    </tr>\n",
              "    <tr>\n",
              "      <th>c</th>\n",
              "      <td>30</td>\n",
              "    </tr>\n",
              "    <tr>\n",
              "      <th>d</th>\n",
              "      <td>40</td>\n",
              "    </tr>\n",
              "  </tbody>\n",
              "</table>\n",
              "</div>"
            ],
            "text/plain": [
              "   numbers\n",
              "a       10\n",
              "b       20\n",
              "c       30\n",
              "d       40"
            ]
          },
          "metadata": {
            "tags": []
          },
          "execution_count": 83
        }
      ]
    },
    {
      "cell_type": "markdown",
      "metadata": {
        "id": "XUasxP8G-ZMo",
        "colab_type": "text"
      },
      "source": [
        "Typical operations on a\n",
        "DataFrame Object :"
      ]
    },
    {
      "cell_type": "code",
      "metadata": {
        "id": "hCsYjF_U9abU",
        "colab_type": "code",
        "colab": {
          "base_uri": "https://localhost:8080/",
          "height": 34
        },
        "outputId": "99d6a83d-a291-4c5a-a8b8-a01001d9c25b"
      },
      "source": [
        "df.index"
      ],
      "execution_count": null,
      "outputs": [
        {
          "output_type": "execute_result",
          "data": {
            "text/plain": [
              "Index(['a', 'b', 'c', 'd'], dtype='object')"
            ]
          },
          "metadata": {
            "tags": []
          },
          "execution_count": 84
        }
      ]
    },
    {
      "cell_type": "code",
      "metadata": {
        "id": "2Vt-Y6R7-dLm",
        "colab_type": "code",
        "colab": {
          "base_uri": "https://localhost:8080/",
          "height": 34
        },
        "outputId": "5fd330ee-9ba9-4f84-b440-ad3b2d205b6c"
      },
      "source": [
        "df.columns"
      ],
      "execution_count": null,
      "outputs": [
        {
          "output_type": "execute_result",
          "data": {
            "text/plain": [
              "Index(['numbers'], dtype='object')"
            ]
          },
          "metadata": {
            "tags": []
          },
          "execution_count": 85
        }
      ]
    },
    {
      "cell_type": "code",
      "metadata": {
        "id": "LKXkAU4L-gQK",
        "colab_type": "code",
        "colab": {
          "base_uri": "https://localhost:8080/",
          "height": 52
        },
        "outputId": "02df913d-f0a7-4663-bee2-7c33ae661ef5"
      },
      "source": [
        "df.loc['c']"
      ],
      "execution_count": null,
      "outputs": [
        {
          "output_type": "execute_result",
          "data": {
            "text/plain": [
              "numbers    30\n",
              "Name: c, dtype: int64"
            ]
          },
          "metadata": {
            "tags": []
          },
          "execution_count": 86
        }
      ]
    },
    {
      "cell_type": "code",
      "metadata": {
        "id": "RroMCZAh-pak",
        "colab_type": "code",
        "colab": {
          "base_uri": "https://localhost:8080/",
          "height": 112
        },
        "outputId": "30891df9-51bd-49e1-dcef-ca5ae7158d89"
      },
      "source": [
        "df.loc[['a', 'd']]"
      ],
      "execution_count": null,
      "outputs": [
        {
          "output_type": "execute_result",
          "data": {
            "text/html": [
              "<div>\n",
              "<style scoped>\n",
              "    .dataframe tbody tr th:only-of-type {\n",
              "        vertical-align: middle;\n",
              "    }\n",
              "\n",
              "    .dataframe tbody tr th {\n",
              "        vertical-align: top;\n",
              "    }\n",
              "\n",
              "    .dataframe thead th {\n",
              "        text-align: right;\n",
              "    }\n",
              "</style>\n",
              "<table border=\"1\" class=\"dataframe\">\n",
              "  <thead>\n",
              "    <tr style=\"text-align: right;\">\n",
              "      <th></th>\n",
              "      <th>numbers</th>\n",
              "    </tr>\n",
              "  </thead>\n",
              "  <tbody>\n",
              "    <tr>\n",
              "      <th>a</th>\n",
              "      <td>10</td>\n",
              "    </tr>\n",
              "    <tr>\n",
              "      <th>d</th>\n",
              "      <td>40</td>\n",
              "    </tr>\n",
              "  </tbody>\n",
              "</table>\n",
              "</div>"
            ],
            "text/plain": [
              "   numbers\n",
              "a       10\n",
              "d       40"
            ]
          },
          "metadata": {
            "tags": []
          },
          "execution_count": 87
        }
      ]
    },
    {
      "cell_type": "code",
      "metadata": {
        "id": "ak-_Y9rB-uwc",
        "colab_type": "code",
        "colab": {
          "base_uri": "https://localhost:8080/",
          "height": 112
        },
        "outputId": "1c93e1e0-48ed-4683-b494-332cff166b4e"
      },
      "source": [
        "df.iloc[1:3]"
      ],
      "execution_count": null,
      "outputs": [
        {
          "output_type": "execute_result",
          "data": {
            "text/html": [
              "<div>\n",
              "<style scoped>\n",
              "    .dataframe tbody tr th:only-of-type {\n",
              "        vertical-align: middle;\n",
              "    }\n",
              "\n",
              "    .dataframe tbody tr th {\n",
              "        vertical-align: top;\n",
              "    }\n",
              "\n",
              "    .dataframe thead th {\n",
              "        text-align: right;\n",
              "    }\n",
              "</style>\n",
              "<table border=\"1\" class=\"dataframe\">\n",
              "  <thead>\n",
              "    <tr style=\"text-align: right;\">\n",
              "      <th></th>\n",
              "      <th>numbers</th>\n",
              "    </tr>\n",
              "  </thead>\n",
              "  <tbody>\n",
              "    <tr>\n",
              "      <th>b</th>\n",
              "      <td>20</td>\n",
              "    </tr>\n",
              "    <tr>\n",
              "      <th>c</th>\n",
              "      <td>30</td>\n",
              "    </tr>\n",
              "  </tbody>\n",
              "</table>\n",
              "</div>"
            ],
            "text/plain": [
              "   numbers\n",
              "b       20\n",
              "c       30"
            ]
          },
          "metadata": {
            "tags": []
          },
          "execution_count": 88
        }
      ]
    },
    {
      "cell_type": "code",
      "metadata": {
        "id": "947obwkG-2Vl",
        "colab_type": "code",
        "colab": {
          "base_uri": "https://localhost:8080/",
          "height": 52
        },
        "outputId": "f9d075f3-d4be-4ca9-c164-e962dcb55026"
      },
      "source": [
        "df.sum()"
      ],
      "execution_count": null,
      "outputs": [
        {
          "output_type": "execute_result",
          "data": {
            "text/plain": [
              "numbers    100\n",
              "dtype: int64"
            ]
          },
          "metadata": {
            "tags": []
          },
          "execution_count": 89
        }
      ]
    },
    {
      "cell_type": "code",
      "metadata": {
        "id": "dnJ1esga-56Z",
        "colab_type": "code",
        "colab": {
          "base_uri": "https://localhost:8080/",
          "height": 175
        },
        "outputId": "19b20383-deb7-4dfb-8f91-91edef5d6ad6"
      },
      "source": [
        "df.apply(lambda x : x ** 2)"
      ],
      "execution_count": null,
      "outputs": [
        {
          "output_type": "execute_result",
          "data": {
            "text/html": [
              "<div>\n",
              "<style scoped>\n",
              "    .dataframe tbody tr th:only-of-type {\n",
              "        vertical-align: middle;\n",
              "    }\n",
              "\n",
              "    .dataframe tbody tr th {\n",
              "        vertical-align: top;\n",
              "    }\n",
              "\n",
              "    .dataframe thead th {\n",
              "        text-align: right;\n",
              "    }\n",
              "</style>\n",
              "<table border=\"1\" class=\"dataframe\">\n",
              "  <thead>\n",
              "    <tr style=\"text-align: right;\">\n",
              "      <th></th>\n",
              "      <th>numbers</th>\n",
              "    </tr>\n",
              "  </thead>\n",
              "  <tbody>\n",
              "    <tr>\n",
              "      <th>a</th>\n",
              "      <td>100</td>\n",
              "    </tr>\n",
              "    <tr>\n",
              "      <th>b</th>\n",
              "      <td>400</td>\n",
              "    </tr>\n",
              "    <tr>\n",
              "      <th>c</th>\n",
              "      <td>900</td>\n",
              "    </tr>\n",
              "    <tr>\n",
              "      <th>d</th>\n",
              "      <td>1600</td>\n",
              "    </tr>\n",
              "  </tbody>\n",
              "</table>\n",
              "</div>"
            ],
            "text/plain": [
              "   numbers\n",
              "a      100\n",
              "b      400\n",
              "c      900\n",
              "d     1600"
            ]
          },
          "metadata": {
            "tags": []
          },
          "execution_count": 90
        }
      ]
    },
    {
      "cell_type": "code",
      "metadata": {
        "id": "74aF-XNn--Ga",
        "colab_type": "code",
        "colab": {
          "base_uri": "https://localhost:8080/",
          "height": 175
        },
        "outputId": "53738f64-b5e7-4834-adb0-8f978bf74cc8"
      },
      "source": [
        "df**2"
      ],
      "execution_count": null,
      "outputs": [
        {
          "output_type": "execute_result",
          "data": {
            "text/html": [
              "<div>\n",
              "<style scoped>\n",
              "    .dataframe tbody tr th:only-of-type {\n",
              "        vertical-align: middle;\n",
              "    }\n",
              "\n",
              "    .dataframe tbody tr th {\n",
              "        vertical-align: top;\n",
              "    }\n",
              "\n",
              "    .dataframe thead th {\n",
              "        text-align: right;\n",
              "    }\n",
              "</style>\n",
              "<table border=\"1\" class=\"dataframe\">\n",
              "  <thead>\n",
              "    <tr style=\"text-align: right;\">\n",
              "      <th></th>\n",
              "      <th>numbers</th>\n",
              "    </tr>\n",
              "  </thead>\n",
              "  <tbody>\n",
              "    <tr>\n",
              "      <th>a</th>\n",
              "      <td>100</td>\n",
              "    </tr>\n",
              "    <tr>\n",
              "      <th>b</th>\n",
              "      <td>400</td>\n",
              "    </tr>\n",
              "    <tr>\n",
              "      <th>c</th>\n",
              "      <td>900</td>\n",
              "    </tr>\n",
              "    <tr>\n",
              "      <th>d</th>\n",
              "      <td>1600</td>\n",
              "    </tr>\n",
              "  </tbody>\n",
              "</table>\n",
              "</div>"
            ],
            "text/plain": [
              "   numbers\n",
              "a      100\n",
              "b      400\n",
              "c      900\n",
              "d     1600"
            ]
          },
          "metadata": {
            "tags": []
          },
          "execution_count": 91
        }
      ]
    },
    {
      "cell_type": "markdown",
      "metadata": {
        "id": "XlvMTKHj_OKO",
        "colab_type": "text"
      },
      "source": [
        "Contrary to NumPy ndarray objects, enlarging the DataFrame object in both\n",
        "dimensions is possible:"
      ]
    },
    {
      "cell_type": "code",
      "metadata": {
        "id": "IKqG8Lwc-_wV",
        "colab_type": "code",
        "colab": {
          "base_uri": "https://localhost:8080/",
          "height": 175
        },
        "outputId": "2462fcfa-f14b-4b54-a76e-a443133ae8c2"
      },
      "source": [
        "df[\"floats\"] = (1.5, 2.5, 3.5, 4.5)\n",
        "df"
      ],
      "execution_count": null,
      "outputs": [
        {
          "output_type": "execute_result",
          "data": {
            "text/html": [
              "<div>\n",
              "<style scoped>\n",
              "    .dataframe tbody tr th:only-of-type {\n",
              "        vertical-align: middle;\n",
              "    }\n",
              "\n",
              "    .dataframe tbody tr th {\n",
              "        vertical-align: top;\n",
              "    }\n",
              "\n",
              "    .dataframe thead th {\n",
              "        text-align: right;\n",
              "    }\n",
              "</style>\n",
              "<table border=\"1\" class=\"dataframe\">\n",
              "  <thead>\n",
              "    <tr style=\"text-align: right;\">\n",
              "      <th></th>\n",
              "      <th>numbers</th>\n",
              "      <th>floats</th>\n",
              "    </tr>\n",
              "  </thead>\n",
              "  <tbody>\n",
              "    <tr>\n",
              "      <th>a</th>\n",
              "      <td>10</td>\n",
              "      <td>1.5</td>\n",
              "    </tr>\n",
              "    <tr>\n",
              "      <th>b</th>\n",
              "      <td>20</td>\n",
              "      <td>2.5</td>\n",
              "    </tr>\n",
              "    <tr>\n",
              "      <th>c</th>\n",
              "      <td>30</td>\n",
              "      <td>3.5</td>\n",
              "    </tr>\n",
              "    <tr>\n",
              "      <th>d</th>\n",
              "      <td>40</td>\n",
              "      <td>4.5</td>\n",
              "    </tr>\n",
              "  </tbody>\n",
              "</table>\n",
              "</div>"
            ],
            "text/plain": [
              "   numbers  floats\n",
              "a       10     1.5\n",
              "b       20     2.5\n",
              "c       30     3.5\n",
              "d       40     4.5"
            ]
          },
          "metadata": {
            "tags": []
          },
          "execution_count": 92
        }
      ]
    },
    {
      "cell_type": "markdown",
      "metadata": {
        "id": "Q-S0ezNNCDRB",
        "colab_type": "text"
      },
      "source": [
        "A whole DataFrame object can also be taken to define a new column. In\n",
        "such a case, indices are aligned automatically:"
      ]
    },
    {
      "cell_type": "code",
      "metadata": {
        "id": "vdqSdw19_U0n",
        "colab_type": "code",
        "colab": {
          "base_uri": "https://localhost:8080/",
          "height": 175
        },
        "outputId": "e748be7d-fa42-4b37-8669-950c90d140c8"
      },
      "source": [
        "df[\"names\"] = pd.DataFrame(['Yves', 'Sandra', 'Lilli', 'Henry'], index=['d', 'a', 'b', 'c'])\n",
        "df"
      ],
      "execution_count": null,
      "outputs": [
        {
          "output_type": "execute_result",
          "data": {
            "text/html": [
              "<div>\n",
              "<style scoped>\n",
              "    .dataframe tbody tr th:only-of-type {\n",
              "        vertical-align: middle;\n",
              "    }\n",
              "\n",
              "    .dataframe tbody tr th {\n",
              "        vertical-align: top;\n",
              "    }\n",
              "\n",
              "    .dataframe thead th {\n",
              "        text-align: right;\n",
              "    }\n",
              "</style>\n",
              "<table border=\"1\" class=\"dataframe\">\n",
              "  <thead>\n",
              "    <tr style=\"text-align: right;\">\n",
              "      <th></th>\n",
              "      <th>numbers</th>\n",
              "      <th>floats</th>\n",
              "      <th>names</th>\n",
              "    </tr>\n",
              "  </thead>\n",
              "  <tbody>\n",
              "    <tr>\n",
              "      <th>a</th>\n",
              "      <td>10</td>\n",
              "      <td>1.5</td>\n",
              "      <td>Sandra</td>\n",
              "    </tr>\n",
              "    <tr>\n",
              "      <th>b</th>\n",
              "      <td>20</td>\n",
              "      <td>2.5</td>\n",
              "      <td>Lilli</td>\n",
              "    </tr>\n",
              "    <tr>\n",
              "      <th>c</th>\n",
              "      <td>30</td>\n",
              "      <td>3.5</td>\n",
              "      <td>Henry</td>\n",
              "    </tr>\n",
              "    <tr>\n",
              "      <th>d</th>\n",
              "      <td>40</td>\n",
              "      <td>4.5</td>\n",
              "      <td>Yves</td>\n",
              "    </tr>\n",
              "  </tbody>\n",
              "</table>\n",
              "</div>"
            ],
            "text/plain": [
              "   numbers  floats   names\n",
              "a       10     1.5  Sandra\n",
              "b       20     2.5   Lilli\n",
              "c       30     3.5   Henry\n",
              "d       40     4.5    Yves"
            ]
          },
          "metadata": {
            "tags": []
          },
          "execution_count": 93
        }
      ]
    },
    {
      "cell_type": "markdown",
      "metadata": {
        "id": "C0mT-XUbceAK",
        "colab_type": "text"
      },
      "source": [
        "Appending data works similarly. However, in the following example a side\n",
        "effect is seen that is usually to be avoided — namely, the index gets\n",
        "replaced by a simple range index:"
      ]
    },
    {
      "cell_type": "code",
      "metadata": {
        "id": "ojyR9UILB84P",
        "colab_type": "code",
        "colab": {
          "base_uri": "https://localhost:8080/",
          "height": 206
        },
        "outputId": "a482f03c-42b4-41e5-9737-5a01529ae484"
      },
      "source": [
        "#Appends a new row via a dict object; this is a temporary operation during which index information gets lost.\n",
        "df.append({\"numbers\" : 100, \"floats\" : 5.75, \"names\" : \"Jil\"}, ignore_index = True)"
      ],
      "execution_count": null,
      "outputs": [
        {
          "output_type": "execute_result",
          "data": {
            "text/html": [
              "<div>\n",
              "<style scoped>\n",
              "    .dataframe tbody tr th:only-of-type {\n",
              "        vertical-align: middle;\n",
              "    }\n",
              "\n",
              "    .dataframe tbody tr th {\n",
              "        vertical-align: top;\n",
              "    }\n",
              "\n",
              "    .dataframe thead th {\n",
              "        text-align: right;\n",
              "    }\n",
              "</style>\n",
              "<table border=\"1\" class=\"dataframe\">\n",
              "  <thead>\n",
              "    <tr style=\"text-align: right;\">\n",
              "      <th></th>\n",
              "      <th>numbers</th>\n",
              "      <th>floats</th>\n",
              "      <th>names</th>\n",
              "    </tr>\n",
              "  </thead>\n",
              "  <tbody>\n",
              "    <tr>\n",
              "      <th>0</th>\n",
              "      <td>10</td>\n",
              "      <td>1.50</td>\n",
              "      <td>Sandra</td>\n",
              "    </tr>\n",
              "    <tr>\n",
              "      <th>1</th>\n",
              "      <td>20</td>\n",
              "      <td>2.50</td>\n",
              "      <td>Lilli</td>\n",
              "    </tr>\n",
              "    <tr>\n",
              "      <th>2</th>\n",
              "      <td>30</td>\n",
              "      <td>3.50</td>\n",
              "      <td>Henry</td>\n",
              "    </tr>\n",
              "    <tr>\n",
              "      <th>3</th>\n",
              "      <td>40</td>\n",
              "      <td>4.50</td>\n",
              "      <td>Yves</td>\n",
              "    </tr>\n",
              "    <tr>\n",
              "      <th>4</th>\n",
              "      <td>100</td>\n",
              "      <td>5.75</td>\n",
              "      <td>Jil</td>\n",
              "    </tr>\n",
              "  </tbody>\n",
              "</table>\n",
              "</div>"
            ],
            "text/plain": [
              "   numbers  floats   names\n",
              "0       10    1.50  Sandra\n",
              "1       20    2.50   Lilli\n",
              "2       30    3.50   Henry\n",
              "3       40    4.50    Yves\n",
              "4      100    5.75     Jil"
            ]
          },
          "metadata": {
            "tags": []
          },
          "execution_count": 94
        }
      ]
    },
    {
      "cell_type": "code",
      "metadata": {
        "id": "riOCO8dkcsdl",
        "colab_type": "code",
        "colab": {
          "base_uri": "https://localhost:8080/",
          "height": 206
        },
        "outputId": "3a3c7bb8-0f0b-41ef-fea0-085ca2593e56"
      },
      "source": [
        "#Appends the row based on a DataFrame object with index information; the original index information is preserved.\n",
        "df = df.append(pd.DataFrame({\"numbers\" : 100, \"floats\" : 5.75, \"names\" : \"Jil\"}, index = ['y',]))\n",
        "df"
      ],
      "execution_count": null,
      "outputs": [
        {
          "output_type": "execute_result",
          "data": {
            "text/html": [
              "<div>\n",
              "<style scoped>\n",
              "    .dataframe tbody tr th:only-of-type {\n",
              "        vertical-align: middle;\n",
              "    }\n",
              "\n",
              "    .dataframe tbody tr th {\n",
              "        vertical-align: top;\n",
              "    }\n",
              "\n",
              "    .dataframe thead th {\n",
              "        text-align: right;\n",
              "    }\n",
              "</style>\n",
              "<table border=\"1\" class=\"dataframe\">\n",
              "  <thead>\n",
              "    <tr style=\"text-align: right;\">\n",
              "      <th></th>\n",
              "      <th>numbers</th>\n",
              "      <th>floats</th>\n",
              "      <th>names</th>\n",
              "    </tr>\n",
              "  </thead>\n",
              "  <tbody>\n",
              "    <tr>\n",
              "      <th>a</th>\n",
              "      <td>10</td>\n",
              "      <td>1.50</td>\n",
              "      <td>Sandra</td>\n",
              "    </tr>\n",
              "    <tr>\n",
              "      <th>b</th>\n",
              "      <td>20</td>\n",
              "      <td>2.50</td>\n",
              "      <td>Lilli</td>\n",
              "    </tr>\n",
              "    <tr>\n",
              "      <th>c</th>\n",
              "      <td>30</td>\n",
              "      <td>3.50</td>\n",
              "      <td>Henry</td>\n",
              "    </tr>\n",
              "    <tr>\n",
              "      <th>d</th>\n",
              "      <td>40</td>\n",
              "      <td>4.50</td>\n",
              "      <td>Yves</td>\n",
              "    </tr>\n",
              "    <tr>\n",
              "      <th>y</th>\n",
              "      <td>100</td>\n",
              "      <td>5.75</td>\n",
              "      <td>Jil</td>\n",
              "    </tr>\n",
              "  </tbody>\n",
              "</table>\n",
              "</div>"
            ],
            "text/plain": [
              "   numbers  floats   names\n",
              "a       10    1.50  Sandra\n",
              "b       20    2.50   Lilli\n",
              "c       30    3.50   Henry\n",
              "d       40    4.50    Yves\n",
              "y      100    5.75     Jil"
            ]
          },
          "metadata": {
            "tags": []
          },
          "execution_count": 95
        }
      ]
    },
    {
      "cell_type": "code",
      "metadata": {
        "id": "NO5Xiifidaq_",
        "colab_type": "code",
        "colab": {
          "base_uri": "https://localhost:8080/",
          "height": 237
        },
        "outputId": "3a43cc19-5a05-4e62-a399-a2976b58da29"
      },
      "source": [
        "#Appends an incomplete data row to the DataFrame object, resulting in NaN values.\n",
        "df = df.append(pd.DataFrame({\"names\" : \"Liz\"}, index = ['z', ]), sort = False)\n",
        "df"
      ],
      "execution_count": null,
      "outputs": [
        {
          "output_type": "execute_result",
          "data": {
            "text/html": [
              "<div>\n",
              "<style scoped>\n",
              "    .dataframe tbody tr th:only-of-type {\n",
              "        vertical-align: middle;\n",
              "    }\n",
              "\n",
              "    .dataframe tbody tr th {\n",
              "        vertical-align: top;\n",
              "    }\n",
              "\n",
              "    .dataframe thead th {\n",
              "        text-align: right;\n",
              "    }\n",
              "</style>\n",
              "<table border=\"1\" class=\"dataframe\">\n",
              "  <thead>\n",
              "    <tr style=\"text-align: right;\">\n",
              "      <th></th>\n",
              "      <th>numbers</th>\n",
              "      <th>floats</th>\n",
              "      <th>names</th>\n",
              "    </tr>\n",
              "  </thead>\n",
              "  <tbody>\n",
              "    <tr>\n",
              "      <th>a</th>\n",
              "      <td>10.0</td>\n",
              "      <td>1.50</td>\n",
              "      <td>Sandra</td>\n",
              "    </tr>\n",
              "    <tr>\n",
              "      <th>b</th>\n",
              "      <td>20.0</td>\n",
              "      <td>2.50</td>\n",
              "      <td>Lilli</td>\n",
              "    </tr>\n",
              "    <tr>\n",
              "      <th>c</th>\n",
              "      <td>30.0</td>\n",
              "      <td>3.50</td>\n",
              "      <td>Henry</td>\n",
              "    </tr>\n",
              "    <tr>\n",
              "      <th>d</th>\n",
              "      <td>40.0</td>\n",
              "      <td>4.50</td>\n",
              "      <td>Yves</td>\n",
              "    </tr>\n",
              "    <tr>\n",
              "      <th>y</th>\n",
              "      <td>100.0</td>\n",
              "      <td>5.75</td>\n",
              "      <td>Jil</td>\n",
              "    </tr>\n",
              "    <tr>\n",
              "      <th>z</th>\n",
              "      <td>NaN</td>\n",
              "      <td>NaN</td>\n",
              "      <td>Liz</td>\n",
              "    </tr>\n",
              "  </tbody>\n",
              "</table>\n",
              "</div>"
            ],
            "text/plain": [
              "   numbers  floats   names\n",
              "a     10.0    1.50  Sandra\n",
              "b     20.0    2.50   Lilli\n",
              "c     30.0    3.50   Henry\n",
              "d     40.0    4.50    Yves\n",
              "y    100.0    5.75     Jil\n",
              "z      NaN     NaN     Liz"
            ]
          },
          "metadata": {
            "tags": []
          },
          "execution_count": 96
        }
      ]
    },
    {
      "cell_type": "code",
      "metadata": {
        "id": "NtgtQEMPd9Wb",
        "colab_type": "code",
        "colab": {
          "base_uri": "https://localhost:8080/",
          "height": 86
        },
        "outputId": "fc9cfc21-b16a-40f4-9150-766e5e9c2437"
      },
      "source": [
        "df.dtypes"
      ],
      "execution_count": null,
      "outputs": [
        {
          "output_type": "execute_result",
          "data": {
            "text/plain": [
              "numbers    float64\n",
              "floats     float64\n",
              "names       object\n",
              "dtype: object"
            ]
          },
          "metadata": {
            "tags": []
          },
          "execution_count": 97
        }
      ]
    },
    {
      "cell_type": "markdown",
      "metadata": {
        "id": "mhMwLcgiegEc",
        "colab_type": "text"
      },
      "source": [
        "Although there are now missing values, the majority of method calls will\n",
        "still work"
      ]
    },
    {
      "cell_type": "code",
      "metadata": {
        "id": "1UyCobR_eM_b",
        "colab_type": "code",
        "colab": {
          "base_uri": "https://localhost:8080/",
          "height": 69
        },
        "outputId": "610022bc-ba88-49c9-f63f-0f30efe5b3df"
      },
      "source": [
        "df[[\"numbers\", \"floats\"]].mean()"
      ],
      "execution_count": null,
      "outputs": [
        {
          "output_type": "execute_result",
          "data": {
            "text/plain": [
              "numbers    40.00\n",
              "floats      3.55\n",
              "dtype: float64"
            ]
          },
          "metadata": {
            "tags": []
          },
          "execution_count": 98
        }
      ]
    },
    {
      "cell_type": "code",
      "metadata": {
        "id": "0Cxue40felmI",
        "colab_type": "code",
        "colab": {
          "base_uri": "https://localhost:8080/",
          "height": 69
        },
        "outputId": "6e9cc5ae-fab4-4d67-98f1-d77cccf320e7"
      },
      "source": [
        "df[[\"numbers\", \"floats\"]].std()"
      ],
      "execution_count": null,
      "outputs": [
        {
          "output_type": "execute_result",
          "data": {
            "text/plain": [
              "numbers    35.355339\n",
              "floats      1.662077\n",
              "dtype: float64"
            ]
          },
          "metadata": {
            "tags": []
          },
          "execution_count": 99
        }
      ]
    },
    {
      "cell_type": "code",
      "metadata": {
        "id": "1Nw57MnXeo_x",
        "colab_type": "code",
        "colab": {}
      },
      "source": [
        " import numpy as np"
      ],
      "execution_count": null,
      "outputs": []
    },
    {
      "cell_type": "code",
      "metadata": {
        "id": "Gu2bcSFRUrpK",
        "colab_type": "code",
        "colab": {}
      },
      "source": [
        "np.random.seed(100)"
      ],
      "execution_count": null,
      "outputs": []
    },
    {
      "cell_type": "code",
      "metadata": {
        "id": "cJZCdKXBUt-g",
        "colab_type": "code",
        "colab": {
          "base_uri": "https://localhost:8080/",
          "height": 173
        },
        "outputId": "e91a12c8-2f6e-4792-83e2-652a214f2459"
      },
      "source": [
        "a = np.random.standard_normal((9,4))\n",
        "a"
      ],
      "execution_count": null,
      "outputs": [
        {
          "output_type": "execute_result",
          "data": {
            "text/plain": [
              "array([[-1.74976547,  0.3426804 ,  1.1530358 , -0.25243604],\n",
              "       [ 0.98132079,  0.51421884,  0.22117967, -1.07004333],\n",
              "       [-0.18949583,  0.25500144, -0.45802699,  0.43516349],\n",
              "       [-0.58359505,  0.81684707,  0.67272081, -0.10441114],\n",
              "       [-0.53128038,  1.02973269, -0.43813562, -1.11831825],\n",
              "       [ 1.61898166,  1.54160517, -0.25187914, -0.84243574],\n",
              "       [ 0.18451869,  0.9370822 ,  0.73100034,  1.36155613],\n",
              "       [-0.32623806,  0.05567601,  0.22239961, -1.443217  ],\n",
              "       [-0.75635231,  0.81645401,  0.75044476, -0.45594693]])"
            ]
          },
          "metadata": {
            "tags": []
          },
          "execution_count": 102
        }
      ]
    },
    {
      "cell_type": "markdown",
      "metadata": {
        "id": "ZE4UZlKQVAPe",
        "colab_type": "text"
      },
      "source": [
        "Although one can construct DataFrame objects more directly (as seen\n",
        "before), using an ndarray object is generally a good choice since pandas\n",
        "will retain the basic structure and will “only” add metainformation (e.g.,\n",
        "index values)."
      ]
    },
    {
      "cell_type": "code",
      "metadata": {
        "id": "jHN_5ZqxUz8Q",
        "colab_type": "code",
        "colab": {
          "base_uri": "https://localhost:8080/",
          "height": 331
        },
        "outputId": "1e393883-20c5-4f41-9728-02c220c2587d"
      },
      "source": [
        "df = pd.DataFrame(a)\n",
        "df"
      ],
      "execution_count": null,
      "outputs": [
        {
          "output_type": "execute_result",
          "data": {
            "text/html": [
              "<div>\n",
              "<style scoped>\n",
              "    .dataframe tbody tr th:only-of-type {\n",
              "        vertical-align: middle;\n",
              "    }\n",
              "\n",
              "    .dataframe tbody tr th {\n",
              "        vertical-align: top;\n",
              "    }\n",
              "\n",
              "    .dataframe thead th {\n",
              "        text-align: right;\n",
              "    }\n",
              "</style>\n",
              "<table border=\"1\" class=\"dataframe\">\n",
              "  <thead>\n",
              "    <tr style=\"text-align: right;\">\n",
              "      <th></th>\n",
              "      <th>0</th>\n",
              "      <th>1</th>\n",
              "      <th>2</th>\n",
              "      <th>3</th>\n",
              "    </tr>\n",
              "  </thead>\n",
              "  <tbody>\n",
              "    <tr>\n",
              "      <th>0</th>\n",
              "      <td>-1.749765</td>\n",
              "      <td>0.342680</td>\n",
              "      <td>1.153036</td>\n",
              "      <td>-0.252436</td>\n",
              "    </tr>\n",
              "    <tr>\n",
              "      <th>1</th>\n",
              "      <td>0.981321</td>\n",
              "      <td>0.514219</td>\n",
              "      <td>0.221180</td>\n",
              "      <td>-1.070043</td>\n",
              "    </tr>\n",
              "    <tr>\n",
              "      <th>2</th>\n",
              "      <td>-0.189496</td>\n",
              "      <td>0.255001</td>\n",
              "      <td>-0.458027</td>\n",
              "      <td>0.435163</td>\n",
              "    </tr>\n",
              "    <tr>\n",
              "      <th>3</th>\n",
              "      <td>-0.583595</td>\n",
              "      <td>0.816847</td>\n",
              "      <td>0.672721</td>\n",
              "      <td>-0.104411</td>\n",
              "    </tr>\n",
              "    <tr>\n",
              "      <th>4</th>\n",
              "      <td>-0.531280</td>\n",
              "      <td>1.029733</td>\n",
              "      <td>-0.438136</td>\n",
              "      <td>-1.118318</td>\n",
              "    </tr>\n",
              "    <tr>\n",
              "      <th>5</th>\n",
              "      <td>1.618982</td>\n",
              "      <td>1.541605</td>\n",
              "      <td>-0.251879</td>\n",
              "      <td>-0.842436</td>\n",
              "    </tr>\n",
              "    <tr>\n",
              "      <th>6</th>\n",
              "      <td>0.184519</td>\n",
              "      <td>0.937082</td>\n",
              "      <td>0.731000</td>\n",
              "      <td>1.361556</td>\n",
              "    </tr>\n",
              "    <tr>\n",
              "      <th>7</th>\n",
              "      <td>-0.326238</td>\n",
              "      <td>0.055676</td>\n",
              "      <td>0.222400</td>\n",
              "      <td>-1.443217</td>\n",
              "    </tr>\n",
              "    <tr>\n",
              "      <th>8</th>\n",
              "      <td>-0.756352</td>\n",
              "      <td>0.816454</td>\n",
              "      <td>0.750445</td>\n",
              "      <td>-0.455947</td>\n",
              "    </tr>\n",
              "  </tbody>\n",
              "</table>\n",
              "</div>"
            ],
            "text/plain": [
              "          0         1         2         3\n",
              "0 -1.749765  0.342680  1.153036 -0.252436\n",
              "1  0.981321  0.514219  0.221180 -1.070043\n",
              "2 -0.189496  0.255001 -0.458027  0.435163\n",
              "3 -0.583595  0.816847  0.672721 -0.104411\n",
              "4 -0.531280  1.029733 -0.438136 -1.118318\n",
              "5  1.618982  1.541605 -0.251879 -0.842436\n",
              "6  0.184519  0.937082  0.731000  1.361556\n",
              "7 -0.326238  0.055676  0.222400 -1.443217\n",
              "8 -0.756352  0.816454  0.750445 -0.455947"
            ]
          },
          "metadata": {
            "tags": []
          },
          "execution_count": 103
        }
      ]
    },
    {
      "cell_type": "code",
      "metadata": {
        "id": "gxrOetVnVDPd",
        "colab_type": "code",
        "colab": {
          "base_uri": "https://localhost:8080/",
          "height": 331
        },
        "outputId": "0a74f501-7eb1-4d3b-db35-776ae4451b9c"
      },
      "source": [
        "df.columns = [\"No.1\", \"No.2\", \"No.3\", \"No.4\"]\n",
        "df"
      ],
      "execution_count": null,
      "outputs": [
        {
          "output_type": "execute_result",
          "data": {
            "text/html": [
              "<div>\n",
              "<style scoped>\n",
              "    .dataframe tbody tr th:only-of-type {\n",
              "        vertical-align: middle;\n",
              "    }\n",
              "\n",
              "    .dataframe tbody tr th {\n",
              "        vertical-align: top;\n",
              "    }\n",
              "\n",
              "    .dataframe thead th {\n",
              "        text-align: right;\n",
              "    }\n",
              "</style>\n",
              "<table border=\"1\" class=\"dataframe\">\n",
              "  <thead>\n",
              "    <tr style=\"text-align: right;\">\n",
              "      <th></th>\n",
              "      <th>No.1</th>\n",
              "      <th>No.2</th>\n",
              "      <th>No.3</th>\n",
              "      <th>No.4</th>\n",
              "    </tr>\n",
              "  </thead>\n",
              "  <tbody>\n",
              "    <tr>\n",
              "      <th>0</th>\n",
              "      <td>-1.749765</td>\n",
              "      <td>0.342680</td>\n",
              "      <td>1.153036</td>\n",
              "      <td>-0.252436</td>\n",
              "    </tr>\n",
              "    <tr>\n",
              "      <th>1</th>\n",
              "      <td>0.981321</td>\n",
              "      <td>0.514219</td>\n",
              "      <td>0.221180</td>\n",
              "      <td>-1.070043</td>\n",
              "    </tr>\n",
              "    <tr>\n",
              "      <th>2</th>\n",
              "      <td>-0.189496</td>\n",
              "      <td>0.255001</td>\n",
              "      <td>-0.458027</td>\n",
              "      <td>0.435163</td>\n",
              "    </tr>\n",
              "    <tr>\n",
              "      <th>3</th>\n",
              "      <td>-0.583595</td>\n",
              "      <td>0.816847</td>\n",
              "      <td>0.672721</td>\n",
              "      <td>-0.104411</td>\n",
              "    </tr>\n",
              "    <tr>\n",
              "      <th>4</th>\n",
              "      <td>-0.531280</td>\n",
              "      <td>1.029733</td>\n",
              "      <td>-0.438136</td>\n",
              "      <td>-1.118318</td>\n",
              "    </tr>\n",
              "    <tr>\n",
              "      <th>5</th>\n",
              "      <td>1.618982</td>\n",
              "      <td>1.541605</td>\n",
              "      <td>-0.251879</td>\n",
              "      <td>-0.842436</td>\n",
              "    </tr>\n",
              "    <tr>\n",
              "      <th>6</th>\n",
              "      <td>0.184519</td>\n",
              "      <td>0.937082</td>\n",
              "      <td>0.731000</td>\n",
              "      <td>1.361556</td>\n",
              "    </tr>\n",
              "    <tr>\n",
              "      <th>7</th>\n",
              "      <td>-0.326238</td>\n",
              "      <td>0.055676</td>\n",
              "      <td>0.222400</td>\n",
              "      <td>-1.443217</td>\n",
              "    </tr>\n",
              "    <tr>\n",
              "      <th>8</th>\n",
              "      <td>-0.756352</td>\n",
              "      <td>0.816454</td>\n",
              "      <td>0.750445</td>\n",
              "      <td>-0.455947</td>\n",
              "    </tr>\n",
              "  </tbody>\n",
              "</table>\n",
              "</div>"
            ],
            "text/plain": [
              "       No.1      No.2      No.3      No.4\n",
              "0 -1.749765  0.342680  1.153036 -0.252436\n",
              "1  0.981321  0.514219  0.221180 -1.070043\n",
              "2 -0.189496  0.255001 -0.458027  0.435163\n",
              "3 -0.583595  0.816847  0.672721 -0.104411\n",
              "4 -0.531280  1.029733 -0.438136 -1.118318\n",
              "5  1.618982  1.541605 -0.251879 -0.842436\n",
              "6  0.184519  0.937082  0.731000  1.361556\n",
              "7 -0.326238  0.055676  0.222400 -1.443217\n",
              "8 -0.756352  0.816454  0.750445 -0.455947"
            ]
          },
          "metadata": {
            "tags": []
          },
          "execution_count": 104
        }
      ]
    },
    {
      "cell_type": "code",
      "metadata": {
        "id": "LJ0k1MFqYeGp",
        "colab_type": "code",
        "colab": {
          "base_uri": "https://localhost:8080/",
          "height": 104
        },
        "outputId": "ad10b219-63dc-44d4-bbea-74f9923735d6"
      },
      "source": [
        "df.iloc[3]"
      ],
      "execution_count": null,
      "outputs": [
        {
          "output_type": "execute_result",
          "data": {
            "text/plain": [
              "No.1   -0.583595\n",
              "No.2    0.816847\n",
              "No.3    0.672721\n",
              "No.4   -0.104411\n",
              "Name: 3, dtype: float64"
            ]
          },
          "metadata": {
            "tags": []
          },
          "execution_count": 105
        }
      ]
    },
    {
      "cell_type": "markdown",
      "metadata": {
        "id": "uescOwsSZLQT",
        "colab_type": "text"
      },
      "source": [
        "To work with financial time series data efficiently, one must be able to handle  time indices well. For example, assume that our nine data entries in the four columns correspond to month-end data, beginning in January 2019. A\n",
        "***DatetimeIndex object*** is then generated with the date_range() function as\n",
        "follows:"
      ]
    },
    {
      "cell_type": "code",
      "metadata": {
        "id": "mpr0a_FXZZ0W",
        "colab_type": "code",
        "colab": {
          "base_uri": "https://localhost:8080/",
          "height": 86
        },
        "outputId": "f87a66a8-04fa-40db-b534-ddd00582d802"
      },
      "source": [
        "dates = pd.date_range('2019-01-01', periods = 9, freq = 'M')\n",
        "dates"
      ],
      "execution_count": null,
      "outputs": [
        {
          "output_type": "execute_result",
          "data": {
            "text/plain": [
              "DatetimeIndex(['2019-01-31', '2019-02-28', '2019-03-31', '2019-04-30',\n",
              "               '2019-05-31', '2019-06-30', '2019-07-31', '2019-08-31',\n",
              "               '2019-09-30'],\n",
              "              dtype='datetime64[ns]', freq='M')"
            ]
          },
          "metadata": {
            "tags": []
          },
          "execution_count": 106
        }
      ]
    },
    {
      "cell_type": "markdown",
      "metadata": {
        "id": "LjcAcCK8aEGK",
        "colab_type": "text"
      },
      "source": [
        "The following code defines the just-created DatetimeIndex object as the\n",
        "relevant index object, ***making a time series of the original data set:***"
      ]
    },
    {
      "cell_type": "code",
      "metadata": {
        "id": "LcvwKq6wYj_6",
        "colab_type": "code",
        "colab": {
          "base_uri": "https://localhost:8080/",
          "height": 331
        },
        "outputId": "71c3afdb-2faa-4005-81fa-e0bfe6b24036"
      },
      "source": [
        "df.index = dates\n",
        "df"
      ],
      "execution_count": null,
      "outputs": [
        {
          "output_type": "execute_result",
          "data": {
            "text/html": [
              "<div>\n",
              "<style scoped>\n",
              "    .dataframe tbody tr th:only-of-type {\n",
              "        vertical-align: middle;\n",
              "    }\n",
              "\n",
              "    .dataframe tbody tr th {\n",
              "        vertical-align: top;\n",
              "    }\n",
              "\n",
              "    .dataframe thead th {\n",
              "        text-align: right;\n",
              "    }\n",
              "</style>\n",
              "<table border=\"1\" class=\"dataframe\">\n",
              "  <thead>\n",
              "    <tr style=\"text-align: right;\">\n",
              "      <th></th>\n",
              "      <th>No.1</th>\n",
              "      <th>No.2</th>\n",
              "      <th>No.3</th>\n",
              "      <th>No.4</th>\n",
              "    </tr>\n",
              "  </thead>\n",
              "  <tbody>\n",
              "    <tr>\n",
              "      <th>2019-01-31</th>\n",
              "      <td>-1.749765</td>\n",
              "      <td>0.342680</td>\n",
              "      <td>1.153036</td>\n",
              "      <td>-0.252436</td>\n",
              "    </tr>\n",
              "    <tr>\n",
              "      <th>2019-02-28</th>\n",
              "      <td>0.981321</td>\n",
              "      <td>0.514219</td>\n",
              "      <td>0.221180</td>\n",
              "      <td>-1.070043</td>\n",
              "    </tr>\n",
              "    <tr>\n",
              "      <th>2019-03-31</th>\n",
              "      <td>-0.189496</td>\n",
              "      <td>0.255001</td>\n",
              "      <td>-0.458027</td>\n",
              "      <td>0.435163</td>\n",
              "    </tr>\n",
              "    <tr>\n",
              "      <th>2019-04-30</th>\n",
              "      <td>-0.583595</td>\n",
              "      <td>0.816847</td>\n",
              "      <td>0.672721</td>\n",
              "      <td>-0.104411</td>\n",
              "    </tr>\n",
              "    <tr>\n",
              "      <th>2019-05-31</th>\n",
              "      <td>-0.531280</td>\n",
              "      <td>1.029733</td>\n",
              "      <td>-0.438136</td>\n",
              "      <td>-1.118318</td>\n",
              "    </tr>\n",
              "    <tr>\n",
              "      <th>2019-06-30</th>\n",
              "      <td>1.618982</td>\n",
              "      <td>1.541605</td>\n",
              "      <td>-0.251879</td>\n",
              "      <td>-0.842436</td>\n",
              "    </tr>\n",
              "    <tr>\n",
              "      <th>2019-07-31</th>\n",
              "      <td>0.184519</td>\n",
              "      <td>0.937082</td>\n",
              "      <td>0.731000</td>\n",
              "      <td>1.361556</td>\n",
              "    </tr>\n",
              "    <tr>\n",
              "      <th>2019-08-31</th>\n",
              "      <td>-0.326238</td>\n",
              "      <td>0.055676</td>\n",
              "      <td>0.222400</td>\n",
              "      <td>-1.443217</td>\n",
              "    </tr>\n",
              "    <tr>\n",
              "      <th>2019-09-30</th>\n",
              "      <td>-0.756352</td>\n",
              "      <td>0.816454</td>\n",
              "      <td>0.750445</td>\n",
              "      <td>-0.455947</td>\n",
              "    </tr>\n",
              "  </tbody>\n",
              "</table>\n",
              "</div>"
            ],
            "text/plain": [
              "                No.1      No.2      No.3      No.4\n",
              "2019-01-31 -1.749765  0.342680  1.153036 -0.252436\n",
              "2019-02-28  0.981321  0.514219  0.221180 -1.070043\n",
              "2019-03-31 -0.189496  0.255001 -0.458027  0.435163\n",
              "2019-04-30 -0.583595  0.816847  0.672721 -0.104411\n",
              "2019-05-31 -0.531280  1.029733 -0.438136 -1.118318\n",
              "2019-06-30  1.618982  1.541605 -0.251879 -0.842436\n",
              "2019-07-31  0.184519  0.937082  0.731000  1.361556\n",
              "2019-08-31 -0.326238  0.055676  0.222400 -1.443217\n",
              "2019-09-30 -0.756352  0.816454  0.750445 -0.455947"
            ]
          },
          "metadata": {
            "tags": []
          },
          "execution_count": 107
        }
      ]
    },
    {
      "cell_type": "code",
      "metadata": {
        "id": "ZDW1kw9EaKp3",
        "colab_type": "code",
        "colab": {
          "base_uri": "https://localhost:8080/",
          "height": 104
        },
        "outputId": "d47964cb-3c2d-40ec-bfa3-d65fca844dab"
      },
      "source": [
        "df.loc['2019-03-31']"
      ],
      "execution_count": null,
      "outputs": [
        {
          "output_type": "execute_result",
          "data": {
            "text/plain": [
              "No.1   -0.189496\n",
              "No.2    0.255001\n",
              "No.3   -0.458027\n",
              "No.4    0.435163\n",
              "Name: 2019-03-31 00:00:00, dtype: float64"
            ]
          },
          "metadata": {
            "tags": []
          },
          "execution_count": 108
        }
      ]
    },
    {
      "cell_type": "code",
      "metadata": {
        "id": "dZu4d_riaOpe",
        "colab_type": "code",
        "colab": {
          "base_uri": "https://localhost:8080/",
          "height": 104
        },
        "outputId": "9d887138-749d-4073-89eb-9ebc4dd69ebd"
      },
      "source": [
        "df.iloc[2]"
      ],
      "execution_count": null,
      "outputs": [
        {
          "output_type": "execute_result",
          "data": {
            "text/plain": [
              "No.1   -0.189496\n",
              "No.2    0.255001\n",
              "No.3   -0.458027\n",
              "No.4    0.435163\n",
              "Name: 2019-03-31 00:00:00, dtype: float64"
            ]
          },
          "metadata": {
            "tags": []
          },
          "execution_count": 109
        }
      ]
    },
    {
      "cell_type": "markdown",
      "metadata": {
        "id": "0OrH3iYFbJC9",
        "colab_type": "text"
      },
      "source": [
        "In some circumstances, it pays off to have access to the original data set in\n",
        "the form of the ndarray object. The ***values attribute*** provides direct access\n",
        "to it:"
      ]
    },
    {
      "cell_type": "code",
      "metadata": {
        "id": "EqdFcxROaPiM",
        "colab_type": "code",
        "colab": {
          "base_uri": "https://localhost:8080/",
          "height": 173
        },
        "outputId": "2d6940c0-4fb2-435a-b9c7-2644d130d27e"
      },
      "source": [
        "df.values"
      ],
      "execution_count": null,
      "outputs": [
        {
          "output_type": "execute_result",
          "data": {
            "text/plain": [
              "array([[-1.74976547,  0.3426804 ,  1.1530358 , -0.25243604],\n",
              "       [ 0.98132079,  0.51421884,  0.22117967, -1.07004333],\n",
              "       [-0.18949583,  0.25500144, -0.45802699,  0.43516349],\n",
              "       [-0.58359505,  0.81684707,  0.67272081, -0.10441114],\n",
              "       [-0.53128038,  1.02973269, -0.43813562, -1.11831825],\n",
              "       [ 1.61898166,  1.54160517, -0.25187914, -0.84243574],\n",
              "       [ 0.18451869,  0.9370822 ,  0.73100034,  1.36155613],\n",
              "       [-0.32623806,  0.05567601,  0.22239961, -1.443217  ],\n",
              "       [-0.75635231,  0.81645401,  0.75044476, -0.45594693]])"
            ]
          },
          "metadata": {
            "tags": []
          },
          "execution_count": 110
        }
      ]
    },
    {
      "cell_type": "code",
      "metadata": {
        "id": "KV4jkLo5bMht",
        "colab_type": "code",
        "colab": {
          "base_uri": "https://localhost:8080/",
          "height": 34
        },
        "outputId": "21d3098e-a4eb-4899-915f-b5ad5f270b98"
      },
      "source": [
        "type(df.values)"
      ],
      "execution_count": null,
      "outputs": [
        {
          "output_type": "execute_result",
          "data": {
            "text/plain": [
              "numpy.ndarray"
            ]
          },
          "metadata": {
            "tags": []
          },
          "execution_count": 111
        }
      ]
    },
    {
      "cell_type": "code",
      "metadata": {
        "id": "Q9LvF5FibOo_",
        "colab_type": "code",
        "colab": {
          "base_uri": "https://localhost:8080/",
          "height": 173
        },
        "outputId": "44cc1ad0-d300-465c-eea8-c75942b1c3b8"
      },
      "source": [
        "#Alternative method\n",
        "np.array(df)"
      ],
      "execution_count": null,
      "outputs": [
        {
          "output_type": "execute_result",
          "data": {
            "text/plain": [
              "array([[-1.74976547,  0.3426804 ,  1.1530358 , -0.25243604],\n",
              "       [ 0.98132079,  0.51421884,  0.22117967, -1.07004333],\n",
              "       [-0.18949583,  0.25500144, -0.45802699,  0.43516349],\n",
              "       [-0.58359505,  0.81684707,  0.67272081, -0.10441114],\n",
              "       [-0.53128038,  1.02973269, -0.43813562, -1.11831825],\n",
              "       [ 1.61898166,  1.54160517, -0.25187914, -0.84243574],\n",
              "       [ 0.18451869,  0.9370822 ,  0.73100034,  1.36155613],\n",
              "       [-0.32623806,  0.05567601,  0.22239961, -1.443217  ],\n",
              "       [-0.75635231,  0.81645401,  0.75044476, -0.45594693]])"
            ]
          },
          "metadata": {
            "tags": []
          },
          "execution_count": 112
        }
      ]
    },
    {
      "cell_type": "markdown",
      "metadata": {
        "id": "agUTRrzccAod",
        "colab_type": "text"
      },
      "source": [
        "***Basic Analytics***"
      ]
    },
    {
      "cell_type": "code",
      "metadata": {
        "id": "g6ekZgzTbS8F",
        "colab_type": "code",
        "colab": {
          "base_uri": "https://localhost:8080/",
          "height": 225
        },
        "outputId": "61adc526-5867-482c-f987-1083db1c88f3"
      },
      "source": [
        "df.info()"
      ],
      "execution_count": null,
      "outputs": [
        {
          "output_type": "stream",
          "text": [
            "<class 'pandas.core.frame.DataFrame'>\n",
            "DatetimeIndex: 9 entries, 2019-01-31 to 2019-09-30\n",
            "Freq: M\n",
            "Data columns (total 4 columns):\n",
            " #   Column  Non-Null Count  Dtype  \n",
            "---  ------  --------------  -----  \n",
            " 0   No.1    9 non-null      float64\n",
            " 1   No.2    9 non-null      float64\n",
            " 2   No.3    9 non-null      float64\n",
            " 3   No.4    9 non-null      float64\n",
            "dtypes: float64(4)\n",
            "memory usage: 680.0 bytes\n"
          ],
          "name": "stdout"
        }
      ]
    },
    {
      "cell_type": "code",
      "metadata": {
        "id": "puhW6-uwbVIZ",
        "colab_type": "code",
        "colab": {
          "base_uri": "https://localhost:8080/",
          "height": 300
        },
        "outputId": "c6802e80-b5f2-40a0-f08d-67f9e36accea"
      },
      "source": [
        "df.describe()"
      ],
      "execution_count": null,
      "outputs": [
        {
          "output_type": "execute_result",
          "data": {
            "text/html": [
              "<div>\n",
              "<style scoped>\n",
              "    .dataframe tbody tr th:only-of-type {\n",
              "        vertical-align: middle;\n",
              "    }\n",
              "\n",
              "    .dataframe tbody tr th {\n",
              "        vertical-align: top;\n",
              "    }\n",
              "\n",
              "    .dataframe thead th {\n",
              "        text-align: right;\n",
              "    }\n",
              "</style>\n",
              "<table border=\"1\" class=\"dataframe\">\n",
              "  <thead>\n",
              "    <tr style=\"text-align: right;\">\n",
              "      <th></th>\n",
              "      <th>No.1</th>\n",
              "      <th>No.2</th>\n",
              "      <th>No.3</th>\n",
              "      <th>No.4</th>\n",
              "    </tr>\n",
              "  </thead>\n",
              "  <tbody>\n",
              "    <tr>\n",
              "      <th>count</th>\n",
              "      <td>9.000000</td>\n",
              "      <td>9.000000</td>\n",
              "      <td>9.000000</td>\n",
              "      <td>9.000000</td>\n",
              "    </tr>\n",
              "    <tr>\n",
              "      <th>mean</th>\n",
              "      <td>-0.150212</td>\n",
              "      <td>0.701033</td>\n",
              "      <td>0.289193</td>\n",
              "      <td>-0.387788</td>\n",
              "    </tr>\n",
              "    <tr>\n",
              "      <th>std</th>\n",
              "      <td>0.988306</td>\n",
              "      <td>0.457685</td>\n",
              "      <td>0.579920</td>\n",
              "      <td>0.877532</td>\n",
              "    </tr>\n",
              "    <tr>\n",
              "      <th>min</th>\n",
              "      <td>-1.749765</td>\n",
              "      <td>0.055676</td>\n",
              "      <td>-0.458027</td>\n",
              "      <td>-1.443217</td>\n",
              "    </tr>\n",
              "    <tr>\n",
              "      <th>25%</th>\n",
              "      <td>-0.583595</td>\n",
              "      <td>0.342680</td>\n",
              "      <td>-0.251879</td>\n",
              "      <td>-1.070043</td>\n",
              "    </tr>\n",
              "    <tr>\n",
              "      <th>50%</th>\n",
              "      <td>-0.326238</td>\n",
              "      <td>0.816454</td>\n",
              "      <td>0.222400</td>\n",
              "      <td>-0.455947</td>\n",
              "    </tr>\n",
              "    <tr>\n",
              "      <th>75%</th>\n",
              "      <td>0.184519</td>\n",
              "      <td>0.937082</td>\n",
              "      <td>0.731000</td>\n",
              "      <td>-0.104411</td>\n",
              "    </tr>\n",
              "    <tr>\n",
              "      <th>max</th>\n",
              "      <td>1.618982</td>\n",
              "      <td>1.541605</td>\n",
              "      <td>1.153036</td>\n",
              "      <td>1.361556</td>\n",
              "    </tr>\n",
              "  </tbody>\n",
              "</table>\n",
              "</div>"
            ],
            "text/plain": [
              "           No.1      No.2      No.3      No.4\n",
              "count  9.000000  9.000000  9.000000  9.000000\n",
              "mean  -0.150212  0.701033  0.289193 -0.387788\n",
              "std    0.988306  0.457685  0.579920  0.877532\n",
              "min   -1.749765  0.055676 -0.458027 -1.443217\n",
              "25%   -0.583595  0.342680 -0.251879 -1.070043\n",
              "50%   -0.326238  0.816454  0.222400 -0.455947\n",
              "75%    0.184519  0.937082  0.731000 -0.104411\n",
              "max    1.618982  1.541605  1.153036  1.361556"
            ]
          },
          "metadata": {
            "tags": []
          },
          "execution_count": 114
        }
      ]
    },
    {
      "cell_type": "code",
      "metadata": {
        "id": "x6EtkUbRcF2f",
        "colab_type": "code",
        "colab": {
          "base_uri": "https://localhost:8080/",
          "height": 104
        },
        "outputId": "4099dcd2-3897-4660-ab14-017b32ea68bc"
      },
      "source": [
        "df.sum()"
      ],
      "execution_count": null,
      "outputs": [
        {
          "output_type": "execute_result",
          "data": {
            "text/plain": [
              "No.1   -1.351906\n",
              "No.2    6.309298\n",
              "No.3    2.602739\n",
              "No.4   -3.490089\n",
              "dtype: float64"
            ]
          },
          "metadata": {
            "tags": []
          },
          "execution_count": 115
        }
      ]
    },
    {
      "cell_type": "code",
      "metadata": {
        "id": "eL_lBxc5cSo6",
        "colab_type": "code",
        "colab": {
          "base_uri": "https://localhost:8080/",
          "height": 191
        },
        "outputId": "819a1077-4ee0-49fa-f3b4-c0303cdf70a9"
      },
      "source": [
        "#Row wise mean\n",
        "df.mean(axis = 1)"
      ],
      "execution_count": null,
      "outputs": [
        {
          "output_type": "execute_result",
          "data": {
            "text/plain": [
              "2019-01-31   -0.126621\n",
              "2019-02-28    0.161669\n",
              "2019-03-31    0.010661\n",
              "2019-04-30    0.200390\n",
              "2019-05-31   -0.264500\n",
              "2019-06-30    0.516568\n",
              "2019-07-31    0.803539\n",
              "2019-08-31   -0.372845\n",
              "2019-09-30    0.088650\n",
              "Freq: M, dtype: float64"
            ]
          },
          "metadata": {
            "tags": []
          },
          "execution_count": 116
        }
      ]
    },
    {
      "cell_type": "code",
      "metadata": {
        "id": "6RZOPxNIcVxH",
        "colab_type": "code",
        "colab": {
          "base_uri": "https://localhost:8080/",
          "height": 331
        },
        "outputId": "52905886-f847-4574-c033-643ac5d8a984"
      },
      "source": [
        "df.cumsum()"
      ],
      "execution_count": null,
      "outputs": [
        {
          "output_type": "execute_result",
          "data": {
            "text/html": [
              "<div>\n",
              "<style scoped>\n",
              "    .dataframe tbody tr th:only-of-type {\n",
              "        vertical-align: middle;\n",
              "    }\n",
              "\n",
              "    .dataframe tbody tr th {\n",
              "        vertical-align: top;\n",
              "    }\n",
              "\n",
              "    .dataframe thead th {\n",
              "        text-align: right;\n",
              "    }\n",
              "</style>\n",
              "<table border=\"1\" class=\"dataframe\">\n",
              "  <thead>\n",
              "    <tr style=\"text-align: right;\">\n",
              "      <th></th>\n",
              "      <th>No.1</th>\n",
              "      <th>No.2</th>\n",
              "      <th>No.3</th>\n",
              "      <th>No.4</th>\n",
              "    </tr>\n",
              "  </thead>\n",
              "  <tbody>\n",
              "    <tr>\n",
              "      <th>2019-01-31</th>\n",
              "      <td>-1.749765</td>\n",
              "      <td>0.342680</td>\n",
              "      <td>1.153036</td>\n",
              "      <td>-0.252436</td>\n",
              "    </tr>\n",
              "    <tr>\n",
              "      <th>2019-02-28</th>\n",
              "      <td>-0.768445</td>\n",
              "      <td>0.856899</td>\n",
              "      <td>1.374215</td>\n",
              "      <td>-1.322479</td>\n",
              "    </tr>\n",
              "    <tr>\n",
              "      <th>2019-03-31</th>\n",
              "      <td>-0.957941</td>\n",
              "      <td>1.111901</td>\n",
              "      <td>0.916188</td>\n",
              "      <td>-0.887316</td>\n",
              "    </tr>\n",
              "    <tr>\n",
              "      <th>2019-04-30</th>\n",
              "      <td>-1.541536</td>\n",
              "      <td>1.928748</td>\n",
              "      <td>1.588909</td>\n",
              "      <td>-0.991727</td>\n",
              "    </tr>\n",
              "    <tr>\n",
              "      <th>2019-05-31</th>\n",
              "      <td>-2.072816</td>\n",
              "      <td>2.958480</td>\n",
              "      <td>1.150774</td>\n",
              "      <td>-2.110045</td>\n",
              "    </tr>\n",
              "    <tr>\n",
              "      <th>2019-06-30</th>\n",
              "      <td>-0.453834</td>\n",
              "      <td>4.500086</td>\n",
              "      <td>0.898895</td>\n",
              "      <td>-2.952481</td>\n",
              "    </tr>\n",
              "    <tr>\n",
              "      <th>2019-07-31</th>\n",
              "      <td>-0.269316</td>\n",
              "      <td>5.437168</td>\n",
              "      <td>1.629895</td>\n",
              "      <td>-1.590925</td>\n",
              "    </tr>\n",
              "    <tr>\n",
              "      <th>2019-08-31</th>\n",
              "      <td>-0.595554</td>\n",
              "      <td>5.492844</td>\n",
              "      <td>1.852294</td>\n",
              "      <td>-3.034142</td>\n",
              "    </tr>\n",
              "    <tr>\n",
              "      <th>2019-09-30</th>\n",
              "      <td>-1.351906</td>\n",
              "      <td>6.309298</td>\n",
              "      <td>2.602739</td>\n",
              "      <td>-3.490089</td>\n",
              "    </tr>\n",
              "  </tbody>\n",
              "</table>\n",
              "</div>"
            ],
            "text/plain": [
              "                No.1      No.2      No.3      No.4\n",
              "2019-01-31 -1.749765  0.342680  1.153036 -0.252436\n",
              "2019-02-28 -0.768445  0.856899  1.374215 -1.322479\n",
              "2019-03-31 -0.957941  1.111901  0.916188 -0.887316\n",
              "2019-04-30 -1.541536  1.928748  1.588909 -0.991727\n",
              "2019-05-31 -2.072816  2.958480  1.150774 -2.110045\n",
              "2019-06-30 -0.453834  4.500086  0.898895 -2.952481\n",
              "2019-07-31 -0.269316  5.437168  1.629895 -1.590925\n",
              "2019-08-31 -0.595554  5.492844  1.852294 -3.034142\n",
              "2019-09-30 -1.351906  6.309298  2.602739 -3.490089"
            ]
          },
          "metadata": {
            "tags": []
          },
          "execution_count": 117
        }
      ]
    },
    {
      "cell_type": "markdown",
      "metadata": {
        "id": "eOKFH7sjdWD-",
        "colab_type": "text"
      },
      "source": [
        "DataFrame\n",
        "objects also understand NumPy universal functions, as expected"
      ]
    },
    {
      "cell_type": "code",
      "metadata": {
        "id": "Yaky8Dxoclxx",
        "colab_type": "code",
        "colab": {
          "base_uri": "https://localhost:8080/",
          "height": 104
        },
        "outputId": "0b5a56a2-d81c-4a8f-d691-b78ceee9a9de"
      },
      "source": [
        "np.mean(df)"
      ],
      "execution_count": null,
      "outputs": [
        {
          "output_type": "execute_result",
          "data": {
            "text/plain": [
              "No.1   -0.150212\n",
              "No.2    0.701033\n",
              "No.3    0.289193\n",
              "No.4   -0.387788\n",
              "dtype: float64"
            ]
          },
          "metadata": {
            "tags": []
          },
          "execution_count": 118
        }
      ]
    },
    {
      "cell_type": "code",
      "metadata": {
        "id": "fi37oUJzdEvR",
        "colab_type": "code",
        "colab": {
          "base_uri": "https://localhost:8080/",
          "height": 366
        },
        "outputId": "f1b5b094-12a4-40e1-852a-75a5c2b0d202"
      },
      "source": [
        "#Element-wise natural logarithm; a warning is raised but the calculation runs through, resulting in multiple NaN values.\n",
        "np.log(df)"
      ],
      "execution_count": null,
      "outputs": [
        {
          "output_type": "stream",
          "text": [
            "/usr/local/lib/python3.6/dist-packages/ipykernel_launcher.py:2: RuntimeWarning: invalid value encountered in log\n",
            "  \n"
          ],
          "name": "stderr"
        },
        {
          "output_type": "execute_result",
          "data": {
            "text/html": [
              "<div>\n",
              "<style scoped>\n",
              "    .dataframe tbody tr th:only-of-type {\n",
              "        vertical-align: middle;\n",
              "    }\n",
              "\n",
              "    .dataframe tbody tr th {\n",
              "        vertical-align: top;\n",
              "    }\n",
              "\n",
              "    .dataframe thead th {\n",
              "        text-align: right;\n",
              "    }\n",
              "</style>\n",
              "<table border=\"1\" class=\"dataframe\">\n",
              "  <thead>\n",
              "    <tr style=\"text-align: right;\">\n",
              "      <th></th>\n",
              "      <th>No.1</th>\n",
              "      <th>No.2</th>\n",
              "      <th>No.3</th>\n",
              "      <th>No.4</th>\n",
              "    </tr>\n",
              "  </thead>\n",
              "  <tbody>\n",
              "    <tr>\n",
              "      <th>2019-01-31</th>\n",
              "      <td>NaN</td>\n",
              "      <td>-1.070957</td>\n",
              "      <td>0.142398</td>\n",
              "      <td>NaN</td>\n",
              "    </tr>\n",
              "    <tr>\n",
              "      <th>2019-02-28</th>\n",
              "      <td>-0.018856</td>\n",
              "      <td>-0.665106</td>\n",
              "      <td>-1.508780</td>\n",
              "      <td>NaN</td>\n",
              "    </tr>\n",
              "    <tr>\n",
              "      <th>2019-03-31</th>\n",
              "      <td>NaN</td>\n",
              "      <td>-1.366486</td>\n",
              "      <td>NaN</td>\n",
              "      <td>-0.832033</td>\n",
              "    </tr>\n",
              "    <tr>\n",
              "      <th>2019-04-30</th>\n",
              "      <td>NaN</td>\n",
              "      <td>-0.202303</td>\n",
              "      <td>-0.396425</td>\n",
              "      <td>NaN</td>\n",
              "    </tr>\n",
              "    <tr>\n",
              "      <th>2019-05-31</th>\n",
              "      <td>NaN</td>\n",
              "      <td>0.029299</td>\n",
              "      <td>NaN</td>\n",
              "      <td>NaN</td>\n",
              "    </tr>\n",
              "    <tr>\n",
              "      <th>2019-06-30</th>\n",
              "      <td>0.481797</td>\n",
              "      <td>0.432824</td>\n",
              "      <td>NaN</td>\n",
              "      <td>NaN</td>\n",
              "    </tr>\n",
              "    <tr>\n",
              "      <th>2019-07-31</th>\n",
              "      <td>-1.690005</td>\n",
              "      <td>-0.064984</td>\n",
              "      <td>-0.313341</td>\n",
              "      <td>0.308628</td>\n",
              "    </tr>\n",
              "    <tr>\n",
              "      <th>2019-08-31</th>\n",
              "      <td>NaN</td>\n",
              "      <td>-2.888206</td>\n",
              "      <td>-1.503279</td>\n",
              "      <td>NaN</td>\n",
              "    </tr>\n",
              "    <tr>\n",
              "      <th>2019-09-30</th>\n",
              "      <td>NaN</td>\n",
              "      <td>-0.202785</td>\n",
              "      <td>-0.287089</td>\n",
              "      <td>NaN</td>\n",
              "    </tr>\n",
              "  </tbody>\n",
              "</table>\n",
              "</div>"
            ],
            "text/plain": [
              "                No.1      No.2      No.3      No.4\n",
              "2019-01-31       NaN -1.070957  0.142398       NaN\n",
              "2019-02-28 -0.018856 -0.665106 -1.508780       NaN\n",
              "2019-03-31       NaN -1.366486       NaN -0.832033\n",
              "2019-04-30       NaN -0.202303 -0.396425       NaN\n",
              "2019-05-31       NaN  0.029299       NaN       NaN\n",
              "2019-06-30  0.481797  0.432824       NaN       NaN\n",
              "2019-07-31 -1.690005 -0.064984 -0.313341  0.308628\n",
              "2019-08-31       NaN -2.888206 -1.503279       NaN\n",
              "2019-09-30       NaN -0.202785 -0.287089       NaN"
            ]
          },
          "metadata": {
            "tags": []
          },
          "execution_count": 119
        }
      ]
    },
    {
      "cell_type": "code",
      "metadata": {
        "id": "XFFW5-PVdZnL",
        "colab_type": "code",
        "colab": {
          "base_uri": "https://localhost:8080/",
          "height": 331
        },
        "outputId": "459cb097-88a8-4af7-a48b-abfc3da28f5d"
      },
      "source": [
        "np.sqrt(abs(df))"
      ],
      "execution_count": null,
      "outputs": [
        {
          "output_type": "execute_result",
          "data": {
            "text/html": [
              "<div>\n",
              "<style scoped>\n",
              "    .dataframe tbody tr th:only-of-type {\n",
              "        vertical-align: middle;\n",
              "    }\n",
              "\n",
              "    .dataframe tbody tr th {\n",
              "        vertical-align: top;\n",
              "    }\n",
              "\n",
              "    .dataframe thead th {\n",
              "        text-align: right;\n",
              "    }\n",
              "</style>\n",
              "<table border=\"1\" class=\"dataframe\">\n",
              "  <thead>\n",
              "    <tr style=\"text-align: right;\">\n",
              "      <th></th>\n",
              "      <th>No.1</th>\n",
              "      <th>No.2</th>\n",
              "      <th>No.3</th>\n",
              "      <th>No.4</th>\n",
              "    </tr>\n",
              "  </thead>\n",
              "  <tbody>\n",
              "    <tr>\n",
              "      <th>2019-01-31</th>\n",
              "      <td>1.322787</td>\n",
              "      <td>0.585389</td>\n",
              "      <td>1.073795</td>\n",
              "      <td>0.502430</td>\n",
              "    </tr>\n",
              "    <tr>\n",
              "      <th>2019-02-28</th>\n",
              "      <td>0.990616</td>\n",
              "      <td>0.717091</td>\n",
              "      <td>0.470297</td>\n",
              "      <td>1.034429</td>\n",
              "    </tr>\n",
              "    <tr>\n",
              "      <th>2019-03-31</th>\n",
              "      <td>0.435311</td>\n",
              "      <td>0.504977</td>\n",
              "      <td>0.676777</td>\n",
              "      <td>0.659669</td>\n",
              "    </tr>\n",
              "    <tr>\n",
              "      <th>2019-04-30</th>\n",
              "      <td>0.763934</td>\n",
              "      <td>0.903796</td>\n",
              "      <td>0.820196</td>\n",
              "      <td>0.323127</td>\n",
              "    </tr>\n",
              "    <tr>\n",
              "      <th>2019-05-31</th>\n",
              "      <td>0.728890</td>\n",
              "      <td>1.014757</td>\n",
              "      <td>0.661918</td>\n",
              "      <td>1.057506</td>\n",
              "    </tr>\n",
              "    <tr>\n",
              "      <th>2019-06-30</th>\n",
              "      <td>1.272392</td>\n",
              "      <td>1.241614</td>\n",
              "      <td>0.501876</td>\n",
              "      <td>0.917843</td>\n",
              "    </tr>\n",
              "    <tr>\n",
              "      <th>2019-07-31</th>\n",
              "      <td>0.429556</td>\n",
              "      <td>0.968030</td>\n",
              "      <td>0.854986</td>\n",
              "      <td>1.166857</td>\n",
              "    </tr>\n",
              "    <tr>\n",
              "      <th>2019-08-31</th>\n",
              "      <td>0.571173</td>\n",
              "      <td>0.235958</td>\n",
              "      <td>0.471593</td>\n",
              "      <td>1.201340</td>\n",
              "    </tr>\n",
              "    <tr>\n",
              "      <th>2019-09-30</th>\n",
              "      <td>0.869685</td>\n",
              "      <td>0.903578</td>\n",
              "      <td>0.866282</td>\n",
              "      <td>0.675238</td>\n",
              "    </tr>\n",
              "  </tbody>\n",
              "</table>\n",
              "</div>"
            ],
            "text/plain": [
              "                No.1      No.2      No.3      No.4\n",
              "2019-01-31  1.322787  0.585389  1.073795  0.502430\n",
              "2019-02-28  0.990616  0.717091  0.470297  1.034429\n",
              "2019-03-31  0.435311  0.504977  0.676777  0.659669\n",
              "2019-04-30  0.763934  0.903796  0.820196  0.323127\n",
              "2019-05-31  0.728890  1.014757  0.661918  1.057506\n",
              "2019-06-30  1.272392  1.241614  0.501876  0.917843\n",
              "2019-07-31  0.429556  0.968030  0.854986  1.166857\n",
              "2019-08-31  0.571173  0.235958  0.471593  1.201340\n",
              "2019-09-30  0.869685  0.903578  0.866282  0.675238"
            ]
          },
          "metadata": {
            "tags": []
          },
          "execution_count": 120
        }
      ]
    },
    {
      "cell_type": "markdown",
      "metadata": {
        "id": "_56L-XEfkoz7",
        "colab_type": "text"
      },
      "source": [
        "Basic Visualization"
      ]
    },
    {
      "cell_type": "code",
      "metadata": {
        "id": "c0UnAVqudgsE",
        "colab_type": "code",
        "colab": {}
      },
      "source": [
        "from pylab import plt, mpl\n",
        "plt.style.use('seaborn')\n",
        "mpl.rcParams['font.family'] = 'serif'\n",
        "%matplotlib inline"
      ],
      "execution_count": null,
      "outputs": []
    },
    {
      "cell_type": "code",
      "metadata": {
        "id": "9p8jKGYpk738",
        "colab_type": "code",
        "colab": {
          "base_uri": "https://localhost:8080/",
          "height": 400
        },
        "outputId": "eeefdcc0-8c79-4344-dcd5-92f2eb48ee68"
      },
      "source": [
        "df.plot(lw = 2.0, figsize = (10,6))"
      ],
      "execution_count": null,
      "outputs": [
        {
          "output_type": "execute_result",
          "data": {
            "text/plain": [
              "<matplotlib.axes._subplots.AxesSubplot at 0x7f908c9d9c18>"
            ]
          },
          "metadata": {
            "tags": []
          },
          "execution_count": 128
        },
        {
          "output_type": "display_data",
          "data": {
            "image/png": "[encoded data removed]",
            "text/plain": [
              "<Figure size 720x432 with 1 Axes>"
            ]
          },
          "metadata": {
            "tags": [],
            "needs_background": "light"
          }
        }
      ]
    },
    {
      "cell_type": "code",
      "metadata": {
        "id": "BSQ7fP6dlA6k",
        "colab_type": "code",
        "colab": {
          "base_uri": "https://localhost:8080/",
          "height": 400
        },
        "outputId": "c017e19a-5a72-4faf-de7e-4cf8db4c4c58"
      },
      "source": [
        "df.plot.bar(figsize = (10,6), rot = 15);        "
      ],
      "execution_count": null,
      "outputs": [
        {
          "output_type": "display_data",
          "data": {
            "image/png": "[encoded data removed]",
            "text/plain": [
              "<Figure size 720x432 with 1 Axes>"
            ]
          },
          "metadata": {
            "tags": [],
            "needs_background": "light"
          }
        }
      ]
    },
    {
      "cell_type": "markdown",
      "metadata": {
        "id": "V8jIoHxSoZPU",
        "colab_type": "text"
      },
      "source": [
        "***The Series Class -***\n",
        "It is characterized\n",
        "by the fact that it has only a single column of data. In that sense, it is a\n",
        "specialization of the DataFrame class that shares many but not all of its\n",
        "characteristics and capabilities.The main DataFrame methods are available for Series objects as well. For\n",
        "illustration, consider the mean() and plot() methods. A Series object is obtained when a single\n",
        "column is selected from a multicolumn DataFrame object:"
      ]
    },
    {
      "cell_type": "code",
      "metadata": {
        "id": "FCUY0A9NoDDA",
        "colab_type": "code",
        "colab": {
          "base_uri": "https://localhost:8080/",
          "height": 34
        },
        "outputId": "6de8ef56-8739-4866-9343-d8eac60f2e88"
      },
      "source": [
        "type(df)"
      ],
      "execution_count": null,
      "outputs": [
        {
          "output_type": "execute_result",
          "data": {
            "text/plain": [
              "pandas.core.frame.DataFrame"
            ]
          },
          "metadata": {
            "tags": []
          },
          "execution_count": 130
        }
      ]
    },
    {
      "cell_type": "code",
      "metadata": {
        "id": "7fvpsVo1offI",
        "colab_type": "code",
        "colab": {
          "base_uri": "https://localhost:8080/",
          "height": 156
        },
        "outputId": "5b805584-70f4-40f8-ae23-ea3e10b701c4"
      },
      "source": [
        "S = pd.Series(np.linspace(0,15,7), name = \"series\")\n",
        "S"
      ],
      "execution_count": null,
      "outputs": [
        {
          "output_type": "execute_result",
          "data": {
            "text/plain": [
              "0     0.0\n",
              "1     2.5\n",
              "2     5.0\n",
              "3     7.5\n",
              "4    10.0\n",
              "5    12.5\n",
              "6    15.0\n",
              "Name: series, dtype: float64"
            ]
          },
          "metadata": {
            "tags": []
          },
          "execution_count": 132
        }
      ]
    },
    {
      "cell_type": "code",
      "metadata": {
        "id": "BGgRJJozomar",
        "colab_type": "code",
        "colab": {
          "base_uri": "https://localhost:8080/",
          "height": 34
        },
        "outputId": "0f6d0ab7-7656-411e-d38b-8b8a45384454"
      },
      "source": [
        "type(S)"
      ],
      "execution_count": null,
      "outputs": [
        {
          "output_type": "execute_result",
          "data": {
            "text/plain": [
              "pandas.core.series.Series"
            ]
          },
          "metadata": {
            "tags": []
          },
          "execution_count": 133
        }
      ]
    },
    {
      "cell_type": "code",
      "metadata": {
        "id": "moRSw7NYopXA",
        "colab_type": "code",
        "colab": {}
      },
      "source": [
        "s = df[\"No.1\"]"
      ],
      "execution_count": null,
      "outputs": []
    },
    {
      "cell_type": "code",
      "metadata": {
        "id": "NtAsIRltoswM",
        "colab_type": "code",
        "colab": {
          "base_uri": "https://localhost:8080/",
          "height": 191
        },
        "outputId": "fb365b79-63e2-46f2-cf54-6abe3c9f7b15"
      },
      "source": [
        "s"
      ],
      "execution_count": null,
      "outputs": [
        {
          "output_type": "execute_result",
          "data": {
            "text/plain": [
              "2019-01-31   -1.749765\n",
              "2019-02-28    0.981321\n",
              "2019-03-31   -0.189496\n",
              "2019-04-30   -0.583595\n",
              "2019-05-31   -0.531280\n",
              "2019-06-30    1.618982\n",
              "2019-07-31    0.184519\n",
              "2019-08-31   -0.326238\n",
              "2019-09-30   -0.756352\n",
              "Freq: M, Name: No.1, dtype: float64"
            ]
          },
          "metadata": {
            "tags": []
          },
          "execution_count": 135
        }
      ]
    },
    {
      "cell_type": "code",
      "metadata": {
        "id": "WoURVZfBovmL",
        "colab_type": "code",
        "colab": {
          "base_uri": "https://localhost:8080/",
          "height": 34
        },
        "outputId": "b7fa6fc6-d743-4b3d-a6db-4fc1272d89e7"
      },
      "source": [
        "type(s)"
      ],
      "execution_count": null,
      "outputs": [
        {
          "output_type": "execute_result",
          "data": {
            "text/plain": [
              "pandas.core.series.Series"
            ]
          },
          "metadata": {
            "tags": []
          },
          "execution_count": 136
        }
      ]
    },
    {
      "cell_type": "code",
      "metadata": {
        "id": "BWZGTzy9owfc",
        "colab_type": "code",
        "colab": {
          "base_uri": "https://localhost:8080/",
          "height": 34
        },
        "outputId": "21d0a662-259e-41a4-8d95-62a1765102fc"
      },
      "source": [
        "s.mean()"
      ],
      "execution_count": null,
      "outputs": [
        {
          "output_type": "execute_result",
          "data": {
            "text/plain": [
              "-0.15021177307319458"
            ]
          },
          "metadata": {
            "tags": []
          },
          "execution_count": 137
        }
      ]
    },
    {
      "cell_type": "code",
      "metadata": {
        "id": "i7mMEPNBo8BM",
        "colab_type": "code",
        "colab": {
          "base_uri": "https://localhost:8080/",
          "height": 400
        },
        "outputId": "d05e5476-80bf-407b-9b7d-ea25f7c36eb9"
      },
      "source": [
        "s.plot(lw = 2.0, figsize = (10,6))"
      ],
      "execution_count": null,
      "outputs": [
        {
          "output_type": "execute_result",
          "data": {
            "text/plain": [
              "<matplotlib.axes._subplots.AxesSubplot at 0x7f908c7105c0>"
            ]
          },
          "metadata": {
            "tags": []
          },
          "execution_count": 138
        },
        {
          "output_type": "display_data",
          "data": {
            "image/png": "[encoded data removed]",
            "text/plain": [
              "<Figure size 720x432 with 1 Axes>"
            ]
          },
          "metadata": {
            "tags": [],
            "needs_background": "light"
          }
        }
      ]
    },
    {
      "cell_type": "markdown",
      "metadata": {
        "id": "4hVW1ItrpJFO",
        "colab_type": "text"
      },
      "source": [
        "***GroupBy Operations -*** pandas\n",
        "has powerful and flexible grouping capabilities. They work\n",
        "similarly to grouping in SQL as well as pivot tables in Microsoft Excel. To\n",
        "have something to group by one can add, for instance, a column indicating\n",
        "the quarter the respective data of the index belongs to:"
      ]
    },
    {
      "cell_type": "code",
      "metadata": {
        "id": "gpSKPx6Do_nl",
        "colab_type": "code",
        "colab": {
          "base_uri": "https://localhost:8080/",
          "height": 331
        },
        "outputId": "7311be37-a5dc-4ba7-c3fe-b1d52481a4ab"
      },
      "source": [
        "df[\"Quarter\"] = ['Q1', 'Q1', 'Q1', 'Q2', 'Q2', 'Q2', 'Q3', 'Q3', 'Q3']\n",
        "df"
      ],
      "execution_count": null,
      "outputs": [
        {
          "output_type": "execute_result",
          "data": {
            "text/html": [
              "<div>\n",
              "<style scoped>\n",
              "    .dataframe tbody tr th:only-of-type {\n",
              "        vertical-align: middle;\n",
              "    }\n",
              "\n",
              "    .dataframe tbody tr th {\n",
              "        vertical-align: top;\n",
              "    }\n",
              "\n",
              "    .dataframe thead th {\n",
              "        text-align: right;\n",
              "    }\n",
              "</style>\n",
              "<table border=\"1\" class=\"dataframe\">\n",
              "  <thead>\n",
              "    <tr style=\"text-align: right;\">\n",
              "      <th></th>\n",
              "      <th>No.1</th>\n",
              "      <th>No.2</th>\n",
              "      <th>No.3</th>\n",
              "      <th>No.4</th>\n",
              "      <th>Quarter</th>\n",
              "    </tr>\n",
              "  </thead>\n",
              "  <tbody>\n",
              "    <tr>\n",
              "      <th>2019-01-31</th>\n",
              "      <td>-1.749765</td>\n",
              "      <td>0.342680</td>\n",
              "      <td>1.153036</td>\n",
              "      <td>-0.252436</td>\n",
              "      <td>Q1</td>\n",
              "    </tr>\n",
              "    <tr>\n",
              "      <th>2019-02-28</th>\n",
              "      <td>0.981321</td>\n",
              "      <td>0.514219</td>\n",
              "      <td>0.221180</td>\n",
              "      <td>-1.070043</td>\n",
              "      <td>Q1</td>\n",
              "    </tr>\n",
              "    <tr>\n",
              "      <th>2019-03-31</th>\n",
              "      <td>-0.189496</td>\n",
              "      <td>0.255001</td>\n",
              "      <td>-0.458027</td>\n",
              "      <td>0.435163</td>\n",
              "      <td>Q1</td>\n",
              "    </tr>\n",
              "    <tr>\n",
              "      <th>2019-04-30</th>\n",
              "      <td>-0.583595</td>\n",
              "      <td>0.816847</td>\n",
              "      <td>0.672721</td>\n",
              "      <td>-0.104411</td>\n",
              "      <td>Q2</td>\n",
              "    </tr>\n",
              "    <tr>\n",
              "      <th>2019-05-31</th>\n",
              "      <td>-0.531280</td>\n",
              "      <td>1.029733</td>\n",
              "      <td>-0.438136</td>\n",
              "      <td>-1.118318</td>\n",
              "      <td>Q2</td>\n",
              "    </tr>\n",
              "    <tr>\n",
              "      <th>2019-06-30</th>\n",
              "      <td>1.618982</td>\n",
              "      <td>1.541605</td>\n",
              "      <td>-0.251879</td>\n",
              "      <td>-0.842436</td>\n",
              "      <td>Q2</td>\n",
              "    </tr>\n",
              "    <tr>\n",
              "      <th>2019-07-31</th>\n",
              "      <td>0.184519</td>\n",
              "      <td>0.937082</td>\n",
              "      <td>0.731000</td>\n",
              "      <td>1.361556</td>\n",
              "      <td>Q3</td>\n",
              "    </tr>\n",
              "    <tr>\n",
              "      <th>2019-08-31</th>\n",
              "      <td>-0.326238</td>\n",
              "      <td>0.055676</td>\n",
              "      <td>0.222400</td>\n",
              "      <td>-1.443217</td>\n",
              "      <td>Q3</td>\n",
              "    </tr>\n",
              "    <tr>\n",
              "      <th>2019-09-30</th>\n",
              "      <td>-0.756352</td>\n",
              "      <td>0.816454</td>\n",
              "      <td>0.750445</td>\n",
              "      <td>-0.455947</td>\n",
              "      <td>Q3</td>\n",
              "    </tr>\n",
              "  </tbody>\n",
              "</table>\n",
              "</div>"
            ],
            "text/plain": [
              "                No.1      No.2      No.3      No.4 Quarter\n",
              "2019-01-31 -1.749765  0.342680  1.153036 -0.252436      Q1\n",
              "2019-02-28  0.981321  0.514219  0.221180 -1.070043      Q1\n",
              "2019-03-31 -0.189496  0.255001 -0.458027  0.435163      Q1\n",
              "2019-04-30 -0.583595  0.816847  0.672721 -0.104411      Q2\n",
              "2019-05-31 -0.531280  1.029733 -0.438136 -1.118318      Q2\n",
              "2019-06-30  1.618982  1.541605 -0.251879 -0.842436      Q2\n",
              "2019-07-31  0.184519  0.937082  0.731000  1.361556      Q3\n",
              "2019-08-31 -0.326238  0.055676  0.222400 -1.443217      Q3\n",
              "2019-09-30 -0.756352  0.816454  0.750445 -0.455947      Q3"
            ]
          },
          "metadata": {
            "tags": []
          },
          "execution_count": 139
        }
      ]
    },
    {
      "cell_type": "code",
      "metadata": {
        "id": "8vLlC97Cpbqe",
        "colab_type": "code",
        "colab": {
          "base_uri": "https://localhost:8080/",
          "height": 104
        },
        "outputId": "1a8bc489-5ec3-452f-940e-0ecb359491cc"
      },
      "source": [
        "#groups according to the quarter column\n",
        "groups = df.groupby('Quarter')\n",
        "groups.size()"
      ],
      "execution_count": null,
      "outputs": [
        {
          "output_type": "execute_result",
          "data": {
            "text/plain": [
              "Quarter\n",
              "Q1    3\n",
              "Q2    3\n",
              "Q3    3\n",
              "dtype: int64"
            ]
          },
          "metadata": {
            "tags": []
          },
          "execution_count": 141
        }
      ]
    },
    {
      "cell_type": "code",
      "metadata": {
        "id": "TOPq2QUuqhA5",
        "colab_type": "code",
        "colab": {
          "base_uri": "https://localhost:8080/",
          "height": 175
        },
        "outputId": "88325a05-e4e5-4dbc-ddc8-2b9331d825c4"
      },
      "source": [
        "groups.mean()"
      ],
      "execution_count": null,
      "outputs": [
        {
          "output_type": "execute_result",
          "data": {
            "text/html": [
              "<div>\n",
              "<style scoped>\n",
              "    .dataframe tbody tr th:only-of-type {\n",
              "        vertical-align: middle;\n",
              "    }\n",
              "\n",
              "    .dataframe tbody tr th {\n",
              "        vertical-align: top;\n",
              "    }\n",
              "\n",
              "    .dataframe thead th {\n",
              "        text-align: right;\n",
              "    }\n",
              "</style>\n",
              "<table border=\"1\" class=\"dataframe\">\n",
              "  <thead>\n",
              "    <tr style=\"text-align: right;\">\n",
              "      <th></th>\n",
              "      <th>No.1</th>\n",
              "      <th>No.2</th>\n",
              "      <th>No.3</th>\n",
              "      <th>No.4</th>\n",
              "    </tr>\n",
              "    <tr>\n",
              "      <th>Quarter</th>\n",
              "      <th></th>\n",
              "      <th></th>\n",
              "      <th></th>\n",
              "      <th></th>\n",
              "    </tr>\n",
              "  </thead>\n",
              "  <tbody>\n",
              "    <tr>\n",
              "      <th>Q1</th>\n",
              "      <td>-0.319314</td>\n",
              "      <td>0.370634</td>\n",
              "      <td>0.305396</td>\n",
              "      <td>-0.295772</td>\n",
              "    </tr>\n",
              "    <tr>\n",
              "      <th>Q2</th>\n",
              "      <td>0.168035</td>\n",
              "      <td>1.129395</td>\n",
              "      <td>-0.005765</td>\n",
              "      <td>-0.688388</td>\n",
              "    </tr>\n",
              "    <tr>\n",
              "      <th>Q3</th>\n",
              "      <td>-0.299357</td>\n",
              "      <td>0.603071</td>\n",
              "      <td>0.567948</td>\n",
              "      <td>-0.179203</td>\n",
              "    </tr>\n",
              "  </tbody>\n",
              "</table>\n",
              "</div>"
            ],
            "text/plain": [
              "             No.1      No.2      No.3      No.4\n",
              "Quarter                                        \n",
              "Q1      -0.319314  0.370634  0.305396 -0.295772\n",
              "Q2       0.168035  1.129395 -0.005765 -0.688388\n",
              "Q3      -0.299357  0.603071  0.567948 -0.179203"
            ]
          },
          "metadata": {
            "tags": []
          },
          "execution_count": 142
        }
      ]
    },
    {
      "cell_type": "code",
      "metadata": {
        "id": "WP6qY6rUqngs",
        "colab_type": "code",
        "colab": {
          "base_uri": "https://localhost:8080/",
          "height": 175
        },
        "outputId": "315a60e8-a456-4b73-e356-cc526280a916"
      },
      "source": [
        "groups.max()"
      ],
      "execution_count": null,
      "outputs": [
        {
          "output_type": "execute_result",
          "data": {
            "text/html": [
              "<div>\n",
              "<style scoped>\n",
              "    .dataframe tbody tr th:only-of-type {\n",
              "        vertical-align: middle;\n",
              "    }\n",
              "\n",
              "    .dataframe tbody tr th {\n",
              "        vertical-align: top;\n",
              "    }\n",
              "\n",
              "    .dataframe thead th {\n",
              "        text-align: right;\n",
              "    }\n",
              "</style>\n",
              "<table border=\"1\" class=\"dataframe\">\n",
              "  <thead>\n",
              "    <tr style=\"text-align: right;\">\n",
              "      <th></th>\n",
              "      <th>No.1</th>\n",
              "      <th>No.2</th>\n",
              "      <th>No.3</th>\n",
              "      <th>No.4</th>\n",
              "    </tr>\n",
              "    <tr>\n",
              "      <th>Quarter</th>\n",
              "      <th></th>\n",
              "      <th></th>\n",
              "      <th></th>\n",
              "      <th></th>\n",
              "    </tr>\n",
              "  </thead>\n",
              "  <tbody>\n",
              "    <tr>\n",
              "      <th>Q1</th>\n",
              "      <td>0.981321</td>\n",
              "      <td>0.514219</td>\n",
              "      <td>1.153036</td>\n",
              "      <td>0.435163</td>\n",
              "    </tr>\n",
              "    <tr>\n",
              "      <th>Q2</th>\n",
              "      <td>1.618982</td>\n",
              "      <td>1.541605</td>\n",
              "      <td>0.672721</td>\n",
              "      <td>-0.104411</td>\n",
              "    </tr>\n",
              "    <tr>\n",
              "      <th>Q3</th>\n",
              "      <td>0.184519</td>\n",
              "      <td>0.937082</td>\n",
              "      <td>0.750445</td>\n",
              "      <td>1.361556</td>\n",
              "    </tr>\n",
              "  </tbody>\n",
              "</table>\n",
              "</div>"
            ],
            "text/plain": [
              "             No.1      No.2      No.3      No.4\n",
              "Quarter                                        \n",
              "Q1       0.981321  0.514219  1.153036  0.435163\n",
              "Q2       1.618982  1.541605  0.672721 -0.104411\n",
              "Q3       0.184519  0.937082  0.750445  1.361556"
            ]
          },
          "metadata": {
            "tags": []
          },
          "execution_count": 143
        }
      ]
    },
    {
      "cell_type": "code",
      "metadata": {
        "id": "LitQ5DCGqqU6",
        "colab_type": "code",
        "colab": {
          "base_uri": "https://localhost:8080/",
          "height": 206
        },
        "outputId": "eff164e4-4e51-451f-ebc1-e078b99f7adf"
      },
      "source": [
        "groups.aggregate([min, max]).round(2)"
      ],
      "execution_count": null,
      "outputs": [
        {
          "output_type": "execute_result",
          "data": {
            "text/html": [
              "<div>\n",
              "<style scoped>\n",
              "    .dataframe tbody tr th:only-of-type {\n",
              "        vertical-align: middle;\n",
              "    }\n",
              "\n",
              "    .dataframe tbody tr th {\n",
              "        vertical-align: top;\n",
              "    }\n",
              "\n",
              "    .dataframe thead tr th {\n",
              "        text-align: left;\n",
              "    }\n",
              "\n",
              "    .dataframe thead tr:last-of-type th {\n",
              "        text-align: right;\n",
              "    }\n",
              "</style>\n",
              "<table border=\"1\" class=\"dataframe\">\n",
              "  <thead>\n",
              "    <tr>\n",
              "      <th></th>\n",
              "      <th colspan=\"2\" halign=\"left\">No.1</th>\n",
              "      <th colspan=\"2\" halign=\"left\">No.2</th>\n",
              "      <th colspan=\"2\" halign=\"left\">No.3</th>\n",
              "      <th colspan=\"2\" halign=\"left\">No.4</th>\n",
              "    </tr>\n",
              "    <tr>\n",
              "      <th></th>\n",
              "      <th>min</th>\n",
              "      <th>max</th>\n",
              "      <th>min</th>\n",
              "      <th>max</th>\n",
              "      <th>min</th>\n",
              "      <th>max</th>\n",
              "      <th>min</th>\n",
              "      <th>max</th>\n",
              "    </tr>\n",
              "    <tr>\n",
              "      <th>Quarter</th>\n",
              "      <th></th>\n",
              "      <th></th>\n",
              "      <th></th>\n",
              "      <th></th>\n",
              "      <th></th>\n",
              "      <th></th>\n",
              "      <th></th>\n",
              "      <th></th>\n",
              "    </tr>\n",
              "  </thead>\n",
              "  <tbody>\n",
              "    <tr>\n",
              "      <th>Q1</th>\n",
              "      <td>-1.75</td>\n",
              "      <td>0.98</td>\n",
              "      <td>0.26</td>\n",
              "      <td>0.51</td>\n",
              "      <td>-0.46</td>\n",
              "      <td>1.15</td>\n",
              "      <td>-1.07</td>\n",
              "      <td>0.44</td>\n",
              "    </tr>\n",
              "    <tr>\n",
              "      <th>Q2</th>\n",
              "      <td>-0.58</td>\n",
              "      <td>1.62</td>\n",
              "      <td>0.82</td>\n",
              "      <td>1.54</td>\n",
              "      <td>-0.44</td>\n",
              "      <td>0.67</td>\n",
              "      <td>-1.12</td>\n",
              "      <td>-0.10</td>\n",
              "    </tr>\n",
              "    <tr>\n",
              "      <th>Q3</th>\n",
              "      <td>-0.76</td>\n",
              "      <td>0.18</td>\n",
              "      <td>0.06</td>\n",
              "      <td>0.94</td>\n",
              "      <td>0.22</td>\n",
              "      <td>0.75</td>\n",
              "      <td>-1.44</td>\n",
              "      <td>1.36</td>\n",
              "    </tr>\n",
              "  </tbody>\n",
              "</table>\n",
              "</div>"
            ],
            "text/plain": [
              "         No.1        No.2        No.3        No.4      \n",
              "          min   max   min   max   min   max   min   max\n",
              "Quarter                                                \n",
              "Q1      -1.75  0.98  0.26  0.51 -0.46  1.15 -1.07  0.44\n",
              "Q2      -0.58  1.62  0.82  1.54 -0.44  0.67 -1.12 -0.10\n",
              "Q3      -0.76  0.18  0.06  0.94  0.22  0.75 -1.44  1.36"
            ]
          },
          "metadata": {
            "tags": []
          },
          "execution_count": 145
        }
      ]
    },
    {
      "cell_type": "markdown",
      "metadata": {
        "id": "hkY4raN0rU3L",
        "colab_type": "text"
      },
      "source": [
        "Grouping can also be done with multiple columns. To this end, another\n",
        "column, indicating whether the month of the index date is odd or even, is\n",
        "introduced:"
      ]
    },
    {
      "cell_type": "code",
      "metadata": {
        "id": "Q-5CjHD_qr-f",
        "colab_type": "code",
        "colab": {}
      },
      "source": [
        "df['Odd_Even'] = ['Odd', 'Even', 'Odd', 'Even', 'Odd', 'Even',\n",
        "'Odd', 'Even', 'Odd']"
      ],
      "execution_count": null,
      "outputs": []
    },
    {
      "cell_type": "code",
      "metadata": {
        "id": "ox50hnU8rYSo",
        "colab_type": "code",
        "colab": {}
      },
      "source": [
        "groups = df.groupby(['Quarter', 'Odd_Even'])"
      ],
      "execution_count": null,
      "outputs": []
    },
    {
      "cell_type": "code",
      "metadata": {
        "id": "z_GVuIenriIw",
        "colab_type": "code",
        "colab": {
          "base_uri": "https://localhost:8080/",
          "height": 156
        },
        "outputId": "6251f975-33fe-46e2-b8e1-bb4a932b7063"
      },
      "source": [
        "groups.size()"
      ],
      "execution_count": null,
      "outputs": [
        {
          "output_type": "execute_result",
          "data": {
            "text/plain": [
              "Quarter  Odd_Even\n",
              "Q1       Even        1\n",
              "         Odd         2\n",
              "Q2       Even        2\n",
              "         Odd         1\n",
              "Q3       Even        1\n",
              "         Odd         2\n",
              "dtype: int64"
            ]
          },
          "metadata": {
            "tags": []
          },
          "execution_count": 148
        }
      ]
    },
    {
      "cell_type": "code",
      "metadata": {
        "id": "OwPnsqYSrj-s",
        "colab_type": "code",
        "colab": {
          "base_uri": "https://localhost:8080/",
          "height": 300
        },
        "outputId": "7eae222c-25da-4da6-c03f-0f4b474bbe97"
      },
      "source": [
        "groups[['No.1', 'No.4']].aggregate([sum, np.mean])"
      ],
      "execution_count": null,
      "outputs": [
        {
          "output_type": "execute_result",
          "data": {
            "text/html": [
              "<div>\n",
              "<style scoped>\n",
              "    .dataframe tbody tr th:only-of-type {\n",
              "        vertical-align: middle;\n",
              "    }\n",
              "\n",
              "    .dataframe tbody tr th {\n",
              "        vertical-align: top;\n",
              "    }\n",
              "\n",
              "    .dataframe thead tr th {\n",
              "        text-align: left;\n",
              "    }\n",
              "\n",
              "    .dataframe thead tr:last-of-type th {\n",
              "        text-align: right;\n",
              "    }\n",
              "</style>\n",
              "<table border=\"1\" class=\"dataframe\">\n",
              "  <thead>\n",
              "    <tr>\n",
              "      <th></th>\n",
              "      <th></th>\n",
              "      <th colspan=\"2\" halign=\"left\">No.1</th>\n",
              "      <th colspan=\"2\" halign=\"left\">No.4</th>\n",
              "    </tr>\n",
              "    <tr>\n",
              "      <th></th>\n",
              "      <th></th>\n",
              "      <th>sum</th>\n",
              "      <th>mean</th>\n",
              "      <th>sum</th>\n",
              "      <th>mean</th>\n",
              "    </tr>\n",
              "    <tr>\n",
              "      <th>Quarter</th>\n",
              "      <th>Odd_Even</th>\n",
              "      <th></th>\n",
              "      <th></th>\n",
              "      <th></th>\n",
              "      <th></th>\n",
              "    </tr>\n",
              "  </thead>\n",
              "  <tbody>\n",
              "    <tr>\n",
              "      <th rowspan=\"2\" valign=\"top\">Q1</th>\n",
              "      <th>Even</th>\n",
              "      <td>0.981321</td>\n",
              "      <td>0.981321</td>\n",
              "      <td>-1.070043</td>\n",
              "      <td>-1.070043</td>\n",
              "    </tr>\n",
              "    <tr>\n",
              "      <th>Odd</th>\n",
              "      <td>-1.939261</td>\n",
              "      <td>-0.969631</td>\n",
              "      <td>0.182727</td>\n",
              "      <td>0.091364</td>\n",
              "    </tr>\n",
              "    <tr>\n",
              "      <th rowspan=\"2\" valign=\"top\">Q2</th>\n",
              "      <th>Even</th>\n",
              "      <td>1.035387</td>\n",
              "      <td>0.517693</td>\n",
              "      <td>-0.946847</td>\n",
              "      <td>-0.473423</td>\n",
              "    </tr>\n",
              "    <tr>\n",
              "      <th>Odd</th>\n",
              "      <td>-0.531280</td>\n",
              "      <td>-0.531280</td>\n",
              "      <td>-1.118318</td>\n",
              "      <td>-1.118318</td>\n",
              "    </tr>\n",
              "    <tr>\n",
              "      <th rowspan=\"2\" valign=\"top\">Q3</th>\n",
              "      <th>Even</th>\n",
              "      <td>-0.326238</td>\n",
              "      <td>-0.326238</td>\n",
              "      <td>-1.443217</td>\n",
              "      <td>-1.443217</td>\n",
              "    </tr>\n",
              "    <tr>\n",
              "      <th>Odd</th>\n",
              "      <td>-0.571834</td>\n",
              "      <td>-0.285917</td>\n",
              "      <td>0.905609</td>\n",
              "      <td>0.452805</td>\n",
              "    </tr>\n",
              "  </tbody>\n",
              "</table>\n",
              "</div>"
            ],
            "text/plain": [
              "                      No.1                No.4          \n",
              "                       sum      mean       sum      mean\n",
              "Quarter Odd_Even                                        \n",
              "Q1      Even      0.981321  0.981321 -1.070043 -1.070043\n",
              "        Odd      -1.939261 -0.969631  0.182727  0.091364\n",
              "Q2      Even      1.035387  0.517693 -0.946847 -0.473423\n",
              "        Odd      -0.531280 -0.531280 -1.118318 -1.118318\n",
              "Q3      Even     -0.326238 -0.326238 -1.443217 -1.443217\n",
              "        Odd      -0.571834 -0.285917  0.905609  0.452805"
            ]
          },
          "metadata": {
            "tags": []
          },
          "execution_count": 150
        }
      ]
    },
    {
      "cell_type": "markdown",
      "metadata": {
        "id": "Oyh4pJj9snWo",
        "colab_type": "text"
      },
      "source": [
        "Concatenation, Joining, and Merging\n",
        "This section walks through different approaches to combine two simple data\n",
        "sets in the form of DataFrame objects. The two simple data sets are:"
      ]
    },
    {
      "cell_type": "code",
      "metadata": {
        "id": "Hmh92yBmrmhh",
        "colab_type": "code",
        "colab": {
          "base_uri": "https://localhost:8080/",
          "height": 175
        },
        "outputId": "c38f4255-80d6-45fd-9466-e0e4fd4b7d04"
      },
      "source": [
        "df1 = pd.DataFrame(['100', '200', '300', '400'], index=['a', 'b', 'c', 'd'], columns=['A',])\n",
        "df1"
      ],
      "execution_count": null,
      "outputs": [
        {
          "output_type": "execute_result",
          "data": {
            "text/html": [
              "<div>\n",
              "<style scoped>\n",
              "    .dataframe tbody tr th:only-of-type {\n",
              "        vertical-align: middle;\n",
              "    }\n",
              "\n",
              "    .dataframe tbody tr th {\n",
              "        vertical-align: top;\n",
              "    }\n",
              "\n",
              "    .dataframe thead th {\n",
              "        text-align: right;\n",
              "    }\n",
              "</style>\n",
              "<table border=\"1\" class=\"dataframe\">\n",
              "  <thead>\n",
              "    <tr style=\"text-align: right;\">\n",
              "      <th></th>\n",
              "      <th>A</th>\n",
              "    </tr>\n",
              "  </thead>\n",
              "  <tbody>\n",
              "    <tr>\n",
              "      <th>a</th>\n",
              "      <td>100</td>\n",
              "    </tr>\n",
              "    <tr>\n",
              "      <th>b</th>\n",
              "      <td>200</td>\n",
              "    </tr>\n",
              "    <tr>\n",
              "      <th>c</th>\n",
              "      <td>300</td>\n",
              "    </tr>\n",
              "    <tr>\n",
              "      <th>d</th>\n",
              "      <td>400</td>\n",
              "    </tr>\n",
              "  </tbody>\n",
              "</table>\n",
              "</div>"
            ],
            "text/plain": [
              "     A\n",
              "a  100\n",
              "b  200\n",
              "c  300\n",
              "d  400"
            ]
          },
          "metadata": {
            "tags": []
          },
          "execution_count": 151
        }
      ]
    },
    {
      "cell_type": "code",
      "metadata": {
        "id": "GZ67nuKsvN3h",
        "colab_type": "code",
        "colab": {
          "base_uri": "https://localhost:8080/",
          "height": 143
        },
        "outputId": "0fa3def3-af53-4d54-cb33-f286dc447883"
      },
      "source": [
        "df2 = pd.DataFrame(['200', '150', '50'], index=['f', 'b', 'd'], columns=['B',])\n",
        "df2"
      ],
      "execution_count": null,
      "outputs": [
        {
          "output_type": "execute_result",
          "data": {
            "text/html": [
              "<div>\n",
              "<style scoped>\n",
              "    .dataframe tbody tr th:only-of-type {\n",
              "        vertical-align: middle;\n",
              "    }\n",
              "\n",
              "    .dataframe tbody tr th {\n",
              "        vertical-align: top;\n",
              "    }\n",
              "\n",
              "    .dataframe thead th {\n",
              "        text-align: right;\n",
              "    }\n",
              "</style>\n",
              "<table border=\"1\" class=\"dataframe\">\n",
              "  <thead>\n",
              "    <tr style=\"text-align: right;\">\n",
              "      <th></th>\n",
              "      <th>B</th>\n",
              "    </tr>\n",
              "  </thead>\n",
              "  <tbody>\n",
              "    <tr>\n",
              "      <th>f</th>\n",
              "      <td>200</td>\n",
              "    </tr>\n",
              "    <tr>\n",
              "      <th>b</th>\n",
              "      <td>150</td>\n",
              "    </tr>\n",
              "    <tr>\n",
              "      <th>d</th>\n",
              "      <td>50</td>\n",
              "    </tr>\n",
              "  </tbody>\n",
              "</table>\n",
              "</div>"
            ],
            "text/plain": [
              "     B\n",
              "f  200\n",
              "b  150\n",
              "d   50"
            ]
          },
          "metadata": {
            "tags": []
          },
          "execution_count": 152
        }
      ]
    },
    {
      "cell_type": "markdown",
      "metadata": {
        "id": "C59xg79MwJnb",
        "colab_type": "text"
      },
      "source": [
        "**Concatenation**"
      ]
    },
    {
      "cell_type": "code",
      "metadata": {
        "id": "vkANY93hvRjF",
        "colab_type": "code",
        "colab": {
          "base_uri": "https://localhost:8080/",
          "height": 269
        },
        "outputId": "e6d3285b-b3f5-4cb5-c4ea-2e0c80ce46c1"
      },
      "source": [
        "#Appends data from df2 to df1 as new rows.\n",
        "df1.append(df2, sort = False)   "
      ],
      "execution_count": null,
      "outputs": [
        {
          "output_type": "execute_result",
          "data": {
            "text/html": [
              "<div>\n",
              "<style scoped>\n",
              "    .dataframe tbody tr th:only-of-type {\n",
              "        vertical-align: middle;\n",
              "    }\n",
              "\n",
              "    .dataframe tbody tr th {\n",
              "        vertical-align: top;\n",
              "    }\n",
              "\n",
              "    .dataframe thead th {\n",
              "        text-align: right;\n",
              "    }\n",
              "</style>\n",
              "<table border=\"1\" class=\"dataframe\">\n",
              "  <thead>\n",
              "    <tr style=\"text-align: right;\">\n",
              "      <th></th>\n",
              "      <th>A</th>\n",
              "      <th>B</th>\n",
              "    </tr>\n",
              "  </thead>\n",
              "  <tbody>\n",
              "    <tr>\n",
              "      <th>a</th>\n",
              "      <td>100</td>\n",
              "      <td>NaN</td>\n",
              "    </tr>\n",
              "    <tr>\n",
              "      <th>b</th>\n",
              "      <td>200</td>\n",
              "      <td>NaN</td>\n",
              "    </tr>\n",
              "    <tr>\n",
              "      <th>c</th>\n",
              "      <td>300</td>\n",
              "      <td>NaN</td>\n",
              "    </tr>\n",
              "    <tr>\n",
              "      <th>d</th>\n",
              "      <td>400</td>\n",
              "      <td>NaN</td>\n",
              "    </tr>\n",
              "    <tr>\n",
              "      <th>f</th>\n",
              "      <td>NaN</td>\n",
              "      <td>200</td>\n",
              "    </tr>\n",
              "    <tr>\n",
              "      <th>b</th>\n",
              "      <td>NaN</td>\n",
              "      <td>150</td>\n",
              "    </tr>\n",
              "    <tr>\n",
              "      <th>d</th>\n",
              "      <td>NaN</td>\n",
              "      <td>50</td>\n",
              "    </tr>\n",
              "  </tbody>\n",
              "</table>\n",
              "</div>"
            ],
            "text/plain": [
              "     A    B\n",
              "a  100  NaN\n",
              "b  200  NaN\n",
              "c  300  NaN\n",
              "d  400  NaN\n",
              "f  NaN  200\n",
              "b  NaN  150\n",
              "d  NaN   50"
            ]
          },
          "metadata": {
            "tags": []
          },
          "execution_count": 153
        }
      ]
    },
    {
      "cell_type": "code",
      "metadata": {
        "id": "yPQdWklNviVS",
        "colab_type": "code",
        "colab": {
          "base_uri": "https://localhost:8080/",
          "height": 269
        },
        "outputId": "41bce57f-e4c7-4647-8061-1e0daef3e12b"
      },
      "source": [
        "#Does the same but ignores the indices.\n",
        "df1.append(df2, ignore_index=True, sort = False)"
      ],
      "execution_count": null,
      "outputs": [
        {
          "output_type": "execute_result",
          "data": {
            "text/html": [
              "<div>\n",
              "<style scoped>\n",
              "    .dataframe tbody tr th:only-of-type {\n",
              "        vertical-align: middle;\n",
              "    }\n",
              "\n",
              "    .dataframe tbody tr th {\n",
              "        vertical-align: top;\n",
              "    }\n",
              "\n",
              "    .dataframe thead th {\n",
              "        text-align: right;\n",
              "    }\n",
              "</style>\n",
              "<table border=\"1\" class=\"dataframe\">\n",
              "  <thead>\n",
              "    <tr style=\"text-align: right;\">\n",
              "      <th></th>\n",
              "      <th>A</th>\n",
              "      <th>B</th>\n",
              "    </tr>\n",
              "  </thead>\n",
              "  <tbody>\n",
              "    <tr>\n",
              "      <th>0</th>\n",
              "      <td>100</td>\n",
              "      <td>NaN</td>\n",
              "    </tr>\n",
              "    <tr>\n",
              "      <th>1</th>\n",
              "      <td>200</td>\n",
              "      <td>NaN</td>\n",
              "    </tr>\n",
              "    <tr>\n",
              "      <th>2</th>\n",
              "      <td>300</td>\n",
              "      <td>NaN</td>\n",
              "    </tr>\n",
              "    <tr>\n",
              "      <th>3</th>\n",
              "      <td>400</td>\n",
              "      <td>NaN</td>\n",
              "    </tr>\n",
              "    <tr>\n",
              "      <th>4</th>\n",
              "      <td>NaN</td>\n",
              "      <td>200</td>\n",
              "    </tr>\n",
              "    <tr>\n",
              "      <th>5</th>\n",
              "      <td>NaN</td>\n",
              "      <td>150</td>\n",
              "    </tr>\n",
              "    <tr>\n",
              "      <th>6</th>\n",
              "      <td>NaN</td>\n",
              "      <td>50</td>\n",
              "    </tr>\n",
              "  </tbody>\n",
              "</table>\n",
              "</div>"
            ],
            "text/plain": [
              "     A    B\n",
              "0  100  NaN\n",
              "1  200  NaN\n",
              "2  300  NaN\n",
              "3  400  NaN\n",
              "4  NaN  200\n",
              "5  NaN  150\n",
              "6  NaN   50"
            ]
          },
          "metadata": {
            "tags": []
          },
          "execution_count": 154
        }
      ]
    },
    {
      "cell_type": "code",
      "metadata": {
        "id": "HNs3bHntvwLz",
        "colab_type": "code",
        "colab": {
          "base_uri": "https://localhost:8080/",
          "height": 269
        },
        "outputId": "e79060ef-7f7a-4ba4-97ec-6acbc58bc96d"
      },
      "source": [
        "pd.concat((df1, df2), sort = False)"
      ],
      "execution_count": null,
      "outputs": [
        {
          "output_type": "execute_result",
          "data": {
            "text/html": [
              "<div>\n",
              "<style scoped>\n",
              "    .dataframe tbody tr th:only-of-type {\n",
              "        vertical-align: middle;\n",
              "    }\n",
              "\n",
              "    .dataframe tbody tr th {\n",
              "        vertical-align: top;\n",
              "    }\n",
              "\n",
              "    .dataframe thead th {\n",
              "        text-align: right;\n",
              "    }\n",
              "</style>\n",
              "<table border=\"1\" class=\"dataframe\">\n",
              "  <thead>\n",
              "    <tr style=\"text-align: right;\">\n",
              "      <th></th>\n",
              "      <th>A</th>\n",
              "      <th>B</th>\n",
              "    </tr>\n",
              "  </thead>\n",
              "  <tbody>\n",
              "    <tr>\n",
              "      <th>a</th>\n",
              "      <td>100</td>\n",
              "      <td>NaN</td>\n",
              "    </tr>\n",
              "    <tr>\n",
              "      <th>b</th>\n",
              "      <td>200</td>\n",
              "      <td>NaN</td>\n",
              "    </tr>\n",
              "    <tr>\n",
              "      <th>c</th>\n",
              "      <td>300</td>\n",
              "      <td>NaN</td>\n",
              "    </tr>\n",
              "    <tr>\n",
              "      <th>d</th>\n",
              "      <td>400</td>\n",
              "      <td>NaN</td>\n",
              "    </tr>\n",
              "    <tr>\n",
              "      <th>f</th>\n",
              "      <td>NaN</td>\n",
              "      <td>200</td>\n",
              "    </tr>\n",
              "    <tr>\n",
              "      <th>b</th>\n",
              "      <td>NaN</td>\n",
              "      <td>150</td>\n",
              "    </tr>\n",
              "    <tr>\n",
              "      <th>d</th>\n",
              "      <td>NaN</td>\n",
              "      <td>50</td>\n",
              "    </tr>\n",
              "  </tbody>\n",
              "</table>\n",
              "</div>"
            ],
            "text/plain": [
              "     A    B\n",
              "a  100  NaN\n",
              "b  200  NaN\n",
              "c  300  NaN\n",
              "d  400  NaN\n",
              "f  NaN  200\n",
              "b  NaN  150\n",
              "d  NaN   50"
            ]
          },
          "metadata": {
            "tags": []
          },
          "execution_count": 156
        }
      ]
    },
    {
      "cell_type": "code",
      "metadata": {
        "id": "PLFiognOv6mc",
        "colab_type": "code",
        "colab": {
          "base_uri": "https://localhost:8080/",
          "height": 269
        },
        "outputId": "e9483cd1-d031-4eb5-a79b-d3a5233d2acc"
      },
      "source": [
        "pd.concat((df1, df2), ignore_index = True, sort = False)"
      ],
      "execution_count": null,
      "outputs": [
        {
          "output_type": "execute_result",
          "data": {
            "text/html": [
              "<div>\n",
              "<style scoped>\n",
              "    .dataframe tbody tr th:only-of-type {\n",
              "        vertical-align: middle;\n",
              "    }\n",
              "\n",
              "    .dataframe tbody tr th {\n",
              "        vertical-align: top;\n",
              "    }\n",
              "\n",
              "    .dataframe thead th {\n",
              "        text-align: right;\n",
              "    }\n",
              "</style>\n",
              "<table border=\"1\" class=\"dataframe\">\n",
              "  <thead>\n",
              "    <tr style=\"text-align: right;\">\n",
              "      <th></th>\n",
              "      <th>A</th>\n",
              "      <th>B</th>\n",
              "    </tr>\n",
              "  </thead>\n",
              "  <tbody>\n",
              "    <tr>\n",
              "      <th>0</th>\n",
              "      <td>100</td>\n",
              "      <td>NaN</td>\n",
              "    </tr>\n",
              "    <tr>\n",
              "      <th>1</th>\n",
              "      <td>200</td>\n",
              "      <td>NaN</td>\n",
              "    </tr>\n",
              "    <tr>\n",
              "      <th>2</th>\n",
              "      <td>300</td>\n",
              "      <td>NaN</td>\n",
              "    </tr>\n",
              "    <tr>\n",
              "      <th>3</th>\n",
              "      <td>400</td>\n",
              "      <td>NaN</td>\n",
              "    </tr>\n",
              "    <tr>\n",
              "      <th>4</th>\n",
              "      <td>NaN</td>\n",
              "      <td>200</td>\n",
              "    </tr>\n",
              "    <tr>\n",
              "      <th>5</th>\n",
              "      <td>NaN</td>\n",
              "      <td>150</td>\n",
              "    </tr>\n",
              "    <tr>\n",
              "      <th>6</th>\n",
              "      <td>NaN</td>\n",
              "      <td>50</td>\n",
              "    </tr>\n",
              "  </tbody>\n",
              "</table>\n",
              "</div>"
            ],
            "text/plain": [
              "     A    B\n",
              "0  100  NaN\n",
              "1  200  NaN\n",
              "2  300  NaN\n",
              "3  400  NaN\n",
              "4  NaN  200\n",
              "5  NaN  150\n",
              "6  NaN   50"
            ]
          },
          "metadata": {
            "tags": []
          },
          "execution_count": 157
        }
      ]
    },
    {
      "cell_type": "markdown",
      "metadata": {
        "id": "KiBKPlwBwPyr",
        "colab_type": "text"
      },
      "source": [
        "***Joining -***\n",
        "\n",
        "When joining the two data sets, the sequence of the DataFrame objects also\n",
        "matters but in a different way. Only the index values from the first\n",
        "DataFrame object are used. This default behavior is called a left join:"
      ]
    },
    {
      "cell_type": "code",
      "metadata": {
        "id": "hPugOMU8wDuT",
        "colab_type": "code",
        "colab": {
          "base_uri": "https://localhost:8080/",
          "height": 175
        },
        "outputId": "3a594bee-68bd-47ef-ff90-bf7789d975db"
      },
      "source": [
        "df1.join(df2)"
      ],
      "execution_count": null,
      "outputs": [
        {
          "output_type": "execute_result",
          "data": {
            "text/html": [
              "<div>\n",
              "<style scoped>\n",
              "    .dataframe tbody tr th:only-of-type {\n",
              "        vertical-align: middle;\n",
              "    }\n",
              "\n",
              "    .dataframe tbody tr th {\n",
              "        vertical-align: top;\n",
              "    }\n",
              "\n",
              "    .dataframe thead th {\n",
              "        text-align: right;\n",
              "    }\n",
              "</style>\n",
              "<table border=\"1\" class=\"dataframe\">\n",
              "  <thead>\n",
              "    <tr style=\"text-align: right;\">\n",
              "      <th></th>\n",
              "      <th>A</th>\n",
              "      <th>B</th>\n",
              "    </tr>\n",
              "  </thead>\n",
              "  <tbody>\n",
              "    <tr>\n",
              "      <th>a</th>\n",
              "      <td>100</td>\n",
              "      <td>NaN</td>\n",
              "    </tr>\n",
              "    <tr>\n",
              "      <th>b</th>\n",
              "      <td>200</td>\n",
              "      <td>150</td>\n",
              "    </tr>\n",
              "    <tr>\n",
              "      <th>c</th>\n",
              "      <td>300</td>\n",
              "      <td>NaN</td>\n",
              "    </tr>\n",
              "    <tr>\n",
              "      <th>d</th>\n",
              "      <td>400</td>\n",
              "      <td>50</td>\n",
              "    </tr>\n",
              "  </tbody>\n",
              "</table>\n",
              "</div>"
            ],
            "text/plain": [
              "     A    B\n",
              "a  100  NaN\n",
              "b  200  150\n",
              "c  300  NaN\n",
              "d  400   50"
            ]
          },
          "metadata": {
            "tags": []
          },
          "execution_count": 158
        }
      ]
    },
    {
      "cell_type": "code",
      "metadata": {
        "id": "LeNYAiAmA86v",
        "colab_type": "code",
        "colab": {
          "base_uri": "https://localhost:8080/",
          "height": 143
        },
        "outputId": "88cfdeff-a63a-4c9b-8ae6-c52f0ba22131"
      },
      "source": [
        "df2.join(df1)"
      ],
      "execution_count": null,
      "outputs": [
        {
          "output_type": "execute_result",
          "data": {
            "text/html": [
              "<div>\n",
              "<style scoped>\n",
              "    .dataframe tbody tr th:only-of-type {\n",
              "        vertical-align: middle;\n",
              "    }\n",
              "\n",
              "    .dataframe tbody tr th {\n",
              "        vertical-align: top;\n",
              "    }\n",
              "\n",
              "    .dataframe thead th {\n",
              "        text-align: right;\n",
              "    }\n",
              "</style>\n",
              "<table border=\"1\" class=\"dataframe\">\n",
              "  <thead>\n",
              "    <tr style=\"text-align: right;\">\n",
              "      <th></th>\n",
              "      <th>B</th>\n",
              "      <th>A</th>\n",
              "    </tr>\n",
              "  </thead>\n",
              "  <tbody>\n",
              "    <tr>\n",
              "      <th>f</th>\n",
              "      <td>200</td>\n",
              "      <td>NaN</td>\n",
              "    </tr>\n",
              "    <tr>\n",
              "      <th>b</th>\n",
              "      <td>150</td>\n",
              "      <td>200</td>\n",
              "    </tr>\n",
              "    <tr>\n",
              "      <th>d</th>\n",
              "      <td>50</td>\n",
              "      <td>400</td>\n",
              "    </tr>\n",
              "  </tbody>\n",
              "</table>\n",
              "</div>"
            ],
            "text/plain": [
              "     B    A\n",
              "f  200  NaN\n",
              "b  150  200\n",
              "d   50  400"
            ]
          },
          "metadata": {
            "tags": []
          },
          "execution_count": 159
        }
      ]
    },
    {
      "cell_type": "markdown",
      "metadata": {
        "id": "UrKADzZRBSi9",
        "colab_type": "text"
      },
      "source": [
        "There are a total of four different join methods available, each leading to a\n",
        "different behavior with regard to how index values and the corresponding\n",
        "data rows are handled:"
      ]
    },
    {
      "cell_type": "code",
      "metadata": {
        "id": "-pc6zOz-A_Cr",
        "colab_type": "code",
        "colab": {
          "base_uri": "https://localhost:8080/",
          "height": 175
        },
        "outputId": "abe46946-4ea1-43f1-b541-bab52af65cc4"
      },
      "source": [
        "#Left join is the default operation.\n",
        "df1.join(df2, how = \"left\")"
      ],
      "execution_count": null,
      "outputs": [
        {
          "output_type": "execute_result",
          "data": {
            "text/html": [
              "<div>\n",
              "<style scoped>\n",
              "    .dataframe tbody tr th:only-of-type {\n",
              "        vertical-align: middle;\n",
              "    }\n",
              "\n",
              "    .dataframe tbody tr th {\n",
              "        vertical-align: top;\n",
              "    }\n",
              "\n",
              "    .dataframe thead th {\n",
              "        text-align: right;\n",
              "    }\n",
              "</style>\n",
              "<table border=\"1\" class=\"dataframe\">\n",
              "  <thead>\n",
              "    <tr style=\"text-align: right;\">\n",
              "      <th></th>\n",
              "      <th>A</th>\n",
              "      <th>B</th>\n",
              "    </tr>\n",
              "  </thead>\n",
              "  <tbody>\n",
              "    <tr>\n",
              "      <th>a</th>\n",
              "      <td>100</td>\n",
              "      <td>NaN</td>\n",
              "    </tr>\n",
              "    <tr>\n",
              "      <th>b</th>\n",
              "      <td>200</td>\n",
              "      <td>150</td>\n",
              "    </tr>\n",
              "    <tr>\n",
              "      <th>c</th>\n",
              "      <td>300</td>\n",
              "      <td>NaN</td>\n",
              "    </tr>\n",
              "    <tr>\n",
              "      <th>d</th>\n",
              "      <td>400</td>\n",
              "      <td>50</td>\n",
              "    </tr>\n",
              "  </tbody>\n",
              "</table>\n",
              "</div>"
            ],
            "text/plain": [
              "     A    B\n",
              "a  100  NaN\n",
              "b  200  150\n",
              "c  300  NaN\n",
              "d  400   50"
            ]
          },
          "metadata": {
            "tags": []
          },
          "execution_count": 160
        }
      ]
    },
    {
      "cell_type": "code",
      "metadata": {
        "id": "2AIEgMJwBWDp",
        "colab_type": "code",
        "colab": {
          "base_uri": "https://localhost:8080/",
          "height": 143
        },
        "outputId": "f6610bdf-497e-4876-f0b6-277c9775caa9"
      },
      "source": [
        "#Right join is the same as reversing the sequence of the DataFrame objects.\n",
        "df1.join(df2, how = \"right\")"
      ],
      "execution_count": null,
      "outputs": [
        {
          "output_type": "execute_result",
          "data": {
            "text/html": [
              "<div>\n",
              "<style scoped>\n",
              "    .dataframe tbody tr th:only-of-type {\n",
              "        vertical-align: middle;\n",
              "    }\n",
              "\n",
              "    .dataframe tbody tr th {\n",
              "        vertical-align: top;\n",
              "    }\n",
              "\n",
              "    .dataframe thead th {\n",
              "        text-align: right;\n",
              "    }\n",
              "</style>\n",
              "<table border=\"1\" class=\"dataframe\">\n",
              "  <thead>\n",
              "    <tr style=\"text-align: right;\">\n",
              "      <th></th>\n",
              "      <th>A</th>\n",
              "      <th>B</th>\n",
              "    </tr>\n",
              "  </thead>\n",
              "  <tbody>\n",
              "    <tr>\n",
              "      <th>f</th>\n",
              "      <td>NaN</td>\n",
              "      <td>200</td>\n",
              "    </tr>\n",
              "    <tr>\n",
              "      <th>b</th>\n",
              "      <td>200</td>\n",
              "      <td>150</td>\n",
              "    </tr>\n",
              "    <tr>\n",
              "      <th>d</th>\n",
              "      <td>400</td>\n",
              "      <td>50</td>\n",
              "    </tr>\n",
              "  </tbody>\n",
              "</table>\n",
              "</div>"
            ],
            "text/plain": [
              "     A    B\n",
              "f  NaN  200\n",
              "b  200  150\n",
              "d  400   50"
            ]
          },
          "metadata": {
            "tags": []
          },
          "execution_count": 161
        }
      ]
    },
    {
      "cell_type": "code",
      "metadata": {
        "id": "Y_dBVT20BZyQ",
        "colab_type": "code",
        "colab": {
          "base_uri": "https://localhost:8080/",
          "height": 112
        },
        "outputId": "0a0dd06a-fd84-4d2e-f66a-8f4fccdaa1f3"
      },
      "source": [
        "#Inner join only preserves those index values found in both indices.\n",
        "df1.join(df2, how = \"inner\")"
      ],
      "execution_count": null,
      "outputs": [
        {
          "output_type": "execute_result",
          "data": {
            "text/html": [
              "<div>\n",
              "<style scoped>\n",
              "    .dataframe tbody tr th:only-of-type {\n",
              "        vertical-align: middle;\n",
              "    }\n",
              "\n",
              "    .dataframe tbody tr th {\n",
              "        vertical-align: top;\n",
              "    }\n",
              "\n",
              "    .dataframe thead th {\n",
              "        text-align: right;\n",
              "    }\n",
              "</style>\n",
              "<table border=\"1\" class=\"dataframe\">\n",
              "  <thead>\n",
              "    <tr style=\"text-align: right;\">\n",
              "      <th></th>\n",
              "      <th>A</th>\n",
              "      <th>B</th>\n",
              "    </tr>\n",
              "  </thead>\n",
              "  <tbody>\n",
              "    <tr>\n",
              "      <th>b</th>\n",
              "      <td>200</td>\n",
              "      <td>150</td>\n",
              "    </tr>\n",
              "    <tr>\n",
              "      <th>d</th>\n",
              "      <td>400</td>\n",
              "      <td>50</td>\n",
              "    </tr>\n",
              "  </tbody>\n",
              "</table>\n",
              "</div>"
            ],
            "text/plain": [
              "     A    B\n",
              "b  200  150\n",
              "d  400   50"
            ]
          },
          "metadata": {
            "tags": []
          },
          "execution_count": 162
        }
      ]
    },
    {
      "cell_type": "code",
      "metadata": {
        "id": "Cc-6kvI1BmXp",
        "colab_type": "code",
        "colab": {
          "base_uri": "https://localhost:8080/",
          "height": 206
        },
        "outputId": "82b9d5b1-5ceb-45da-b6c0-ec7629bdece3"
      },
      "source": [
        "#Outer join preserves all index values from both indices.\n",
        "df1.join(df2, how = \"outer\")"
      ],
      "execution_count": null,
      "outputs": [
        {
          "output_type": "execute_result",
          "data": {
            "text/html": [
              "<div>\n",
              "<style scoped>\n",
              "    .dataframe tbody tr th:only-of-type {\n",
              "        vertical-align: middle;\n",
              "    }\n",
              "\n",
              "    .dataframe tbody tr th {\n",
              "        vertical-align: top;\n",
              "    }\n",
              "\n",
              "    .dataframe thead th {\n",
              "        text-align: right;\n",
              "    }\n",
              "</style>\n",
              "<table border=\"1\" class=\"dataframe\">\n",
              "  <thead>\n",
              "    <tr style=\"text-align: right;\">\n",
              "      <th></th>\n",
              "      <th>A</th>\n",
              "      <th>B</th>\n",
              "    </tr>\n",
              "  </thead>\n",
              "  <tbody>\n",
              "    <tr>\n",
              "      <th>a</th>\n",
              "      <td>100</td>\n",
              "      <td>NaN</td>\n",
              "    </tr>\n",
              "    <tr>\n",
              "      <th>b</th>\n",
              "      <td>200</td>\n",
              "      <td>150</td>\n",
              "    </tr>\n",
              "    <tr>\n",
              "      <th>c</th>\n",
              "      <td>300</td>\n",
              "      <td>NaN</td>\n",
              "    </tr>\n",
              "    <tr>\n",
              "      <th>d</th>\n",
              "      <td>400</td>\n",
              "      <td>50</td>\n",
              "    </tr>\n",
              "    <tr>\n",
              "      <th>f</th>\n",
              "      <td>NaN</td>\n",
              "      <td>200</td>\n",
              "    </tr>\n",
              "  </tbody>\n",
              "</table>\n",
              "</div>"
            ],
            "text/plain": [
              "     A    B\n",
              "a  100  NaN\n",
              "b  200  150\n",
              "c  300  NaN\n",
              "d  400   50\n",
              "f  NaN  200"
            ]
          },
          "metadata": {
            "tags": []
          },
          "execution_count": 163
        }
      ]
    },
    {
      "cell_type": "markdown",
      "metadata": {
        "id": "L1BJhuLXKHxG",
        "colab_type": "text"
      },
      "source": [
        "***Merging -***\n",
        "While a join operation takes place based on the indices of the DataFrame\n",
        "objects to be joined, a merge operation typically takes place on a column\n",
        "shared between the two data sets. To this end, a new column C is added to\n",
        "both original DataFrame objects:"
      ]
    },
    {
      "cell_type": "code",
      "metadata": {
        "id": "6X97etorBsuK",
        "colab_type": "code",
        "colab": {}
      },
      "source": [
        "c = pd.Series([250,150,50], index = ['b', 'd', 'c'])\n",
        "df1['C'] = c\n",
        "df2['C'] = c"
      ],
      "execution_count": 165,
      "outputs": []
    },
    {
      "cell_type": "code",
      "metadata": {
        "id": "gB4duAxyKh8X",
        "colab_type": "code",
        "colab": {
          "base_uri": "https://localhost:8080/",
          "height": 175
        },
        "outputId": "103f0db1-4d37-42b4-c10d-eb497fe6154f"
      },
      "source": [
        "df1"
      ],
      "execution_count": 166,
      "outputs": [
        {
          "output_type": "execute_result",
          "data": {
            "text/html": [
              "<div>\n",
              "<style scoped>\n",
              "    .dataframe tbody tr th:only-of-type {\n",
              "        vertical-align: middle;\n",
              "    }\n",
              "\n",
              "    .dataframe tbody tr th {\n",
              "        vertical-align: top;\n",
              "    }\n",
              "\n",
              "    .dataframe thead th {\n",
              "        text-align: right;\n",
              "    }\n",
              "</style>\n",
              "<table border=\"1\" class=\"dataframe\">\n",
              "  <thead>\n",
              "    <tr style=\"text-align: right;\">\n",
              "      <th></th>\n",
              "      <th>A</th>\n",
              "      <th>C</th>\n",
              "    </tr>\n",
              "  </thead>\n",
              "  <tbody>\n",
              "    <tr>\n",
              "      <th>a</th>\n",
              "      <td>100</td>\n",
              "      <td>NaN</td>\n",
              "    </tr>\n",
              "    <tr>\n",
              "      <th>b</th>\n",
              "      <td>200</td>\n",
              "      <td>250.0</td>\n",
              "    </tr>\n",
              "    <tr>\n",
              "      <th>c</th>\n",
              "      <td>300</td>\n",
              "      <td>50.0</td>\n",
              "    </tr>\n",
              "    <tr>\n",
              "      <th>d</th>\n",
              "      <td>400</td>\n",
              "      <td>150.0</td>\n",
              "    </tr>\n",
              "  </tbody>\n",
              "</table>\n",
              "</div>"
            ],
            "text/plain": [
              "     A      C\n",
              "a  100    NaN\n",
              "b  200  250.0\n",
              "c  300   50.0\n",
              "d  400  150.0"
            ]
          },
          "metadata": {
            "tags": []
          },
          "execution_count": 166
        }
      ]
    },
    {
      "cell_type": "code",
      "metadata": {
        "id": "VfobA30GKjH_",
        "colab_type": "code",
        "colab": {
          "base_uri": "https://localhost:8080/",
          "height": 143
        },
        "outputId": "f64cf6cc-2de7-4ba2-cdb5-3a6799876fea"
      },
      "source": [
        "df2"
      ],
      "execution_count": 167,
      "outputs": [
        {
          "output_type": "execute_result",
          "data": {
            "text/html": [
              "<div>\n",
              "<style scoped>\n",
              "    .dataframe tbody tr th:only-of-type {\n",
              "        vertical-align: middle;\n",
              "    }\n",
              "\n",
              "    .dataframe tbody tr th {\n",
              "        vertical-align: top;\n",
              "    }\n",
              "\n",
              "    .dataframe thead th {\n",
              "        text-align: right;\n",
              "    }\n",
              "</style>\n",
              "<table border=\"1\" class=\"dataframe\">\n",
              "  <thead>\n",
              "    <tr style=\"text-align: right;\">\n",
              "      <th></th>\n",
              "      <th>B</th>\n",
              "      <th>C</th>\n",
              "    </tr>\n",
              "  </thead>\n",
              "  <tbody>\n",
              "    <tr>\n",
              "      <th>f</th>\n",
              "      <td>200</td>\n",
              "      <td>NaN</td>\n",
              "    </tr>\n",
              "    <tr>\n",
              "      <th>b</th>\n",
              "      <td>150</td>\n",
              "      <td>250.0</td>\n",
              "    </tr>\n",
              "    <tr>\n",
              "      <th>d</th>\n",
              "      <td>50</td>\n",
              "      <td>150.0</td>\n",
              "    </tr>\n",
              "  </tbody>\n",
              "</table>\n",
              "</div>"
            ],
            "text/plain": [
              "     B      C\n",
              "f  200    NaN\n",
              "b  150  250.0\n",
              "d   50  150.0"
            ]
          },
          "metadata": {
            "tags": []
          },
          "execution_count": 167
        }
      ]
    },
    {
      "cell_type": "markdown",
      "metadata": {
        "id": "Dz1UXh-_K1aG",
        "colab_type": "text"
      },
      "source": [
        "By default, the merge operation in this case takes place based on the single\n",
        "shared column C . Other options are available, however, such as an outer\n",
        "merge:"
      ]
    },
    {
      "cell_type": "code",
      "metadata": {
        "id": "nJ09vithKjzv",
        "colab_type": "code",
        "colab": {
          "base_uri": "https://localhost:8080/",
          "height": 143
        },
        "outputId": "d03aaa6f-3da0-4549-cb46-f0c5481779d6"
      },
      "source": [
        "pd.merge(df1, df2)"
      ],
      "execution_count": 168,
      "outputs": [
        {
          "output_type": "execute_result",
          "data": {
            "text/html": [
              "<div>\n",
              "<style scoped>\n",
              "    .dataframe tbody tr th:only-of-type {\n",
              "        vertical-align: middle;\n",
              "    }\n",
              "\n",
              "    .dataframe tbody tr th {\n",
              "        vertical-align: top;\n",
              "    }\n",
              "\n",
              "    .dataframe thead th {\n",
              "        text-align: right;\n",
              "    }\n",
              "</style>\n",
              "<table border=\"1\" class=\"dataframe\">\n",
              "  <thead>\n",
              "    <tr style=\"text-align: right;\">\n",
              "      <th></th>\n",
              "      <th>A</th>\n",
              "      <th>C</th>\n",
              "      <th>B</th>\n",
              "    </tr>\n",
              "  </thead>\n",
              "  <tbody>\n",
              "    <tr>\n",
              "      <th>0</th>\n",
              "      <td>100</td>\n",
              "      <td>NaN</td>\n",
              "      <td>200</td>\n",
              "    </tr>\n",
              "    <tr>\n",
              "      <th>1</th>\n",
              "      <td>200</td>\n",
              "      <td>250.0</td>\n",
              "      <td>150</td>\n",
              "    </tr>\n",
              "    <tr>\n",
              "      <th>2</th>\n",
              "      <td>400</td>\n",
              "      <td>150.0</td>\n",
              "      <td>50</td>\n",
              "    </tr>\n",
              "  </tbody>\n",
              "</table>\n",
              "</div>"
            ],
            "text/plain": [
              "     A      C    B\n",
              "0  100    NaN  200\n",
              "1  200  250.0  150\n",
              "2  400  150.0   50"
            ]
          },
          "metadata": {
            "tags": []
          },
          "execution_count": 168
        }
      ]
    },
    {
      "cell_type": "code",
      "metadata": {
        "id": "U6b6VgieK4di",
        "colab_type": "code",
        "colab": {
          "base_uri": "https://localhost:8080/",
          "height": 143
        },
        "outputId": "7a52ba03-22c3-4652-8050-bb41fd207ca7"
      },
      "source": [
        "pd.merge(df1, df2, on = \"C\")"
      ],
      "execution_count": 169,
      "outputs": [
        {
          "output_type": "execute_result",
          "data": {
            "text/html": [
              "<div>\n",
              "<style scoped>\n",
              "    .dataframe tbody tr th:only-of-type {\n",
              "        vertical-align: middle;\n",
              "    }\n",
              "\n",
              "    .dataframe tbody tr th {\n",
              "        vertical-align: top;\n",
              "    }\n",
              "\n",
              "    .dataframe thead th {\n",
              "        text-align: right;\n",
              "    }\n",
              "</style>\n",
              "<table border=\"1\" class=\"dataframe\">\n",
              "  <thead>\n",
              "    <tr style=\"text-align: right;\">\n",
              "      <th></th>\n",
              "      <th>A</th>\n",
              "      <th>C</th>\n",
              "      <th>B</th>\n",
              "    </tr>\n",
              "  </thead>\n",
              "  <tbody>\n",
              "    <tr>\n",
              "      <th>0</th>\n",
              "      <td>100</td>\n",
              "      <td>NaN</td>\n",
              "      <td>200</td>\n",
              "    </tr>\n",
              "    <tr>\n",
              "      <th>1</th>\n",
              "      <td>200</td>\n",
              "      <td>250.0</td>\n",
              "      <td>150</td>\n",
              "    </tr>\n",
              "    <tr>\n",
              "      <th>2</th>\n",
              "      <td>400</td>\n",
              "      <td>150.0</td>\n",
              "      <td>50</td>\n",
              "    </tr>\n",
              "  </tbody>\n",
              "</table>\n",
              "</div>"
            ],
            "text/plain": [
              "     A      C    B\n",
              "0  100    NaN  200\n",
              "1  200  250.0  150\n",
              "2  400  150.0   50"
            ]
          },
          "metadata": {
            "tags": []
          },
          "execution_count": 169
        }
      ]
    },
    {
      "cell_type": "code",
      "metadata": {
        "id": "2AVFdswTK8Ia",
        "colab_type": "code",
        "colab": {
          "base_uri": "https://localhost:8080/",
          "height": 175
        },
        "outputId": "6c0757e5-a147-4255-c6f4-659b6f617e2b"
      },
      "source": [
        "pd.merge(df1, df2, how = \"outer\")"
      ],
      "execution_count": 170,
      "outputs": [
        {
          "output_type": "execute_result",
          "data": {
            "text/html": [
              "<div>\n",
              "<style scoped>\n",
              "    .dataframe tbody tr th:only-of-type {\n",
              "        vertical-align: middle;\n",
              "    }\n",
              "\n",
              "    .dataframe tbody tr th {\n",
              "        vertical-align: top;\n",
              "    }\n",
              "\n",
              "    .dataframe thead th {\n",
              "        text-align: right;\n",
              "    }\n",
              "</style>\n",
              "<table border=\"1\" class=\"dataframe\">\n",
              "  <thead>\n",
              "    <tr style=\"text-align: right;\">\n",
              "      <th></th>\n",
              "      <th>A</th>\n",
              "      <th>C</th>\n",
              "      <th>B</th>\n",
              "    </tr>\n",
              "  </thead>\n",
              "  <tbody>\n",
              "    <tr>\n",
              "      <th>0</th>\n",
              "      <td>100</td>\n",
              "      <td>NaN</td>\n",
              "      <td>200</td>\n",
              "    </tr>\n",
              "    <tr>\n",
              "      <th>1</th>\n",
              "      <td>200</td>\n",
              "      <td>250.0</td>\n",
              "      <td>150</td>\n",
              "    </tr>\n",
              "    <tr>\n",
              "      <th>2</th>\n",
              "      <td>300</td>\n",
              "      <td>50.0</td>\n",
              "      <td>NaN</td>\n",
              "    </tr>\n",
              "    <tr>\n",
              "      <th>3</th>\n",
              "      <td>400</td>\n",
              "      <td>150.0</td>\n",
              "      <td>50</td>\n",
              "    </tr>\n",
              "  </tbody>\n",
              "</table>\n",
              "</div>"
            ],
            "text/plain": [
              "     A      C    B\n",
              "0  100    NaN  200\n",
              "1  200  250.0  150\n",
              "2  300   50.0  NaN\n",
              "3  400  150.0   50"
            ]
          },
          "metadata": {
            "tags": []
          },
          "execution_count": 170
        }
      ]
    },
    {
      "cell_type": "code",
      "metadata": {
        "id": "fC7dmCU1LA99",
        "colab_type": "code",
        "colab": {
          "base_uri": "https://localhost:8080/",
          "height": 80
        },
        "outputId": "0e14ab46-49ea-4e4b-d7c4-27364d277145"
      },
      "source": [
        "pd.merge(df1, df2, left_on = 'A', right_on = 'B')"
      ],
      "execution_count": 171,
      "outputs": [
        {
          "output_type": "execute_result",
          "data": {
            "text/html": [
              "<div>\n",
              "<style scoped>\n",
              "    .dataframe tbody tr th:only-of-type {\n",
              "        vertical-align: middle;\n",
              "    }\n",
              "\n",
              "    .dataframe tbody tr th {\n",
              "        vertical-align: top;\n",
              "    }\n",
              "\n",
              "    .dataframe thead th {\n",
              "        text-align: right;\n",
              "    }\n",
              "</style>\n",
              "<table border=\"1\" class=\"dataframe\">\n",
              "  <thead>\n",
              "    <tr style=\"text-align: right;\">\n",
              "      <th></th>\n",
              "      <th>A</th>\n",
              "      <th>C_x</th>\n",
              "      <th>B</th>\n",
              "      <th>C_y</th>\n",
              "    </tr>\n",
              "  </thead>\n",
              "  <tbody>\n",
              "    <tr>\n",
              "      <th>0</th>\n",
              "      <td>200</td>\n",
              "      <td>250.0</td>\n",
              "      <td>200</td>\n",
              "      <td>NaN</td>\n",
              "    </tr>\n",
              "  </tbody>\n",
              "</table>\n",
              "</div>"
            ],
            "text/plain": [
              "     A    C_x    B  C_y\n",
              "0  200  250.0  200  NaN"
            ]
          },
          "metadata": {
            "tags": []
          },
          "execution_count": 171
        }
      ]
    },
    {
      "cell_type": "code",
      "metadata": {
        "id": "WDLM_xRDLQjx",
        "colab_type": "code",
        "colab": {
          "base_uri": "https://localhost:8080/",
          "height": 237
        },
        "outputId": "d7b199ea-886c-4619-8e87-8fd03933eff7"
      },
      "source": [
        "pd.merge(df1, df2, left_on = 'A', right_on = 'B', how = \"outer\")"
      ],
      "execution_count": 172,
      "outputs": [
        {
          "output_type": "execute_result",
          "data": {
            "text/html": [
              "<div>\n",
              "<style scoped>\n",
              "    .dataframe tbody tr th:only-of-type {\n",
              "        vertical-align: middle;\n",
              "    }\n",
              "\n",
              "    .dataframe tbody tr th {\n",
              "        vertical-align: top;\n",
              "    }\n",
              "\n",
              "    .dataframe thead th {\n",
              "        text-align: right;\n",
              "    }\n",
              "</style>\n",
              "<table border=\"1\" class=\"dataframe\">\n",
              "  <thead>\n",
              "    <tr style=\"text-align: right;\">\n",
              "      <th></th>\n",
              "      <th>A</th>\n",
              "      <th>C_x</th>\n",
              "      <th>B</th>\n",
              "      <th>C_y</th>\n",
              "    </tr>\n",
              "  </thead>\n",
              "  <tbody>\n",
              "    <tr>\n",
              "      <th>0</th>\n",
              "      <td>100</td>\n",
              "      <td>NaN</td>\n",
              "      <td>NaN</td>\n",
              "      <td>NaN</td>\n",
              "    </tr>\n",
              "    <tr>\n",
              "      <th>1</th>\n",
              "      <td>200</td>\n",
              "      <td>250.0</td>\n",
              "      <td>200</td>\n",
              "      <td>NaN</td>\n",
              "    </tr>\n",
              "    <tr>\n",
              "      <th>2</th>\n",
              "      <td>300</td>\n",
              "      <td>50.0</td>\n",
              "      <td>NaN</td>\n",
              "      <td>NaN</td>\n",
              "    </tr>\n",
              "    <tr>\n",
              "      <th>3</th>\n",
              "      <td>400</td>\n",
              "      <td>150.0</td>\n",
              "      <td>NaN</td>\n",
              "      <td>NaN</td>\n",
              "    </tr>\n",
              "    <tr>\n",
              "      <th>4</th>\n",
              "      <td>NaN</td>\n",
              "      <td>NaN</td>\n",
              "      <td>150</td>\n",
              "      <td>250.0</td>\n",
              "    </tr>\n",
              "    <tr>\n",
              "      <th>5</th>\n",
              "      <td>NaN</td>\n",
              "      <td>NaN</td>\n",
              "      <td>50</td>\n",
              "      <td>150.0</td>\n",
              "    </tr>\n",
              "  </tbody>\n",
              "</table>\n",
              "</div>"
            ],
            "text/plain": [
              "     A    C_x    B    C_y\n",
              "0  100    NaN  NaN    NaN\n",
              "1  200  250.0  200    NaN\n",
              "2  300   50.0  NaN    NaN\n",
              "3  400  150.0  NaN    NaN\n",
              "4  NaN    NaN  150  250.0\n",
              "5  NaN    NaN   50  150.0"
            ]
          },
          "metadata": {
            "tags": []
          },
          "execution_count": 172
        }
      ]
    },
    {
      "cell_type": "code",
      "metadata": {
        "id": "OjucQc1dLT9L",
        "colab_type": "code",
        "colab": {
          "base_uri": "https://localhost:8080/",
          "height": 112
        },
        "outputId": "0ec82d38-f98b-418a-ccea-fa550012d57b"
      },
      "source": [
        "pd.merge(df1, df2, left_index = True, right_index = True)"
      ],
      "execution_count": 174,
      "outputs": [
        {
          "output_type": "execute_result",
          "data": {
            "text/html": [
              "<div>\n",
              "<style scoped>\n",
              "    .dataframe tbody tr th:only-of-type {\n",
              "        vertical-align: middle;\n",
              "    }\n",
              "\n",
              "    .dataframe tbody tr th {\n",
              "        vertical-align: top;\n",
              "    }\n",
              "\n",
              "    .dataframe thead th {\n",
              "        text-align: right;\n",
              "    }\n",
              "</style>\n",
              "<table border=\"1\" class=\"dataframe\">\n",
              "  <thead>\n",
              "    <tr style=\"text-align: right;\">\n",
              "      <th></th>\n",
              "      <th>A</th>\n",
              "      <th>C_x</th>\n",
              "      <th>B</th>\n",
              "      <th>C_y</th>\n",
              "    </tr>\n",
              "  </thead>\n",
              "  <tbody>\n",
              "    <tr>\n",
              "      <th>b</th>\n",
              "      <td>200</td>\n",
              "      <td>250.0</td>\n",
              "      <td>150</td>\n",
              "      <td>250.0</td>\n",
              "    </tr>\n",
              "    <tr>\n",
              "      <th>d</th>\n",
              "      <td>400</td>\n",
              "      <td>150.0</td>\n",
              "      <td>50</td>\n",
              "      <td>150.0</td>\n",
              "    </tr>\n",
              "  </tbody>\n",
              "</table>\n",
              "</div>"
            ],
            "text/plain": [
              "     A    C_x    B    C_y\n",
              "b  200  250.0  150  250.0\n",
              "d  400  150.0   50  150.0"
            ]
          },
          "metadata": {
            "tags": []
          },
          "execution_count": 174
        }
      ]
    },
    {
      "cell_type": "code",
      "metadata": {
        "id": "TvFZhVsxLYl8",
        "colab_type": "code",
        "colab": {
          "base_uri": "https://localhost:8080/",
          "height": 143
        },
        "outputId": "30a297de-2f93-445c-fef0-9da18e5cd2f4"
      },
      "source": [
        "pd.merge(df1, df2, on = \"C\", left_index = True)"
      ],
      "execution_count": 175,
      "outputs": [
        {
          "output_type": "execute_result",
          "data": {
            "text/html": [
              "<div>\n",
              "<style scoped>\n",
              "    .dataframe tbody tr th:only-of-type {\n",
              "        vertical-align: middle;\n",
              "    }\n",
              "\n",
              "    .dataframe tbody tr th {\n",
              "        vertical-align: top;\n",
              "    }\n",
              "\n",
              "    .dataframe thead th {\n",
              "        text-align: right;\n",
              "    }\n",
              "</style>\n",
              "<table border=\"1\" class=\"dataframe\">\n",
              "  <thead>\n",
              "    <tr style=\"text-align: right;\">\n",
              "      <th></th>\n",
              "      <th>A</th>\n",
              "      <th>C</th>\n",
              "      <th>B</th>\n",
              "    </tr>\n",
              "  </thead>\n",
              "  <tbody>\n",
              "    <tr>\n",
              "      <th>f</th>\n",
              "      <td>100</td>\n",
              "      <td>NaN</td>\n",
              "      <td>200</td>\n",
              "    </tr>\n",
              "    <tr>\n",
              "      <th>b</th>\n",
              "      <td>200</td>\n",
              "      <td>250.0</td>\n",
              "      <td>150</td>\n",
              "    </tr>\n",
              "    <tr>\n",
              "      <th>d</th>\n",
              "      <td>400</td>\n",
              "      <td>150.0</td>\n",
              "      <td>50</td>\n",
              "    </tr>\n",
              "  </tbody>\n",
              "</table>\n",
              "</div>"
            ],
            "text/plain": [
              "     A      C    B\n",
              "f  100    NaN  200\n",
              "b  200  250.0  150\n",
              "d  400  150.0   50"
            ]
          },
          "metadata": {
            "tags": []
          },
          "execution_count": 175
        }
      ]
    },
    {
      "cell_type": "code",
      "metadata": {
        "id": "IJOQZQ-9Ljzh",
        "colab_type": "code",
        "colab": {
          "base_uri": "https://localhost:8080/",
          "height": 143
        },
        "outputId": "07b9f6d7-43b9-4560-a254-3706154842e9"
      },
      "source": [
        "pd.merge(df1, df2, on = \"C\", right_index = True)"
      ],
      "execution_count": 176,
      "outputs": [
        {
          "output_type": "execute_result",
          "data": {
            "text/html": [
              "<div>\n",
              "<style scoped>\n",
              "    .dataframe tbody tr th:only-of-type {\n",
              "        vertical-align: middle;\n",
              "    }\n",
              "\n",
              "    .dataframe tbody tr th {\n",
              "        vertical-align: top;\n",
              "    }\n",
              "\n",
              "    .dataframe thead th {\n",
              "        text-align: right;\n",
              "    }\n",
              "</style>\n",
              "<table border=\"1\" class=\"dataframe\">\n",
              "  <thead>\n",
              "    <tr style=\"text-align: right;\">\n",
              "      <th></th>\n",
              "      <th>A</th>\n",
              "      <th>C</th>\n",
              "      <th>B</th>\n",
              "    </tr>\n",
              "  </thead>\n",
              "  <tbody>\n",
              "    <tr>\n",
              "      <th>a</th>\n",
              "      <td>100</td>\n",
              "      <td>NaN</td>\n",
              "      <td>200</td>\n",
              "    </tr>\n",
              "    <tr>\n",
              "      <th>b</th>\n",
              "      <td>200</td>\n",
              "      <td>250.0</td>\n",
              "      <td>150</td>\n",
              "    </tr>\n",
              "    <tr>\n",
              "      <th>d</th>\n",
              "      <td>400</td>\n",
              "      <td>150.0</td>\n",
              "      <td>50</td>\n",
              "    </tr>\n",
              "  </tbody>\n",
              "</table>\n",
              "</div>"
            ],
            "text/plain": [
              "     A      C    B\n",
              "a  100    NaN  200\n",
              "b  200  250.0  150\n",
              "d  400  150.0   50"
            ]
          },
          "metadata": {
            "tags": []
          },
          "execution_count": 176
        }
      ]
    },
    {
      "cell_type": "code",
      "metadata": {
        "id": "kr86dz6eLm4p",
        "colab_type": "code",
        "colab": {
          "base_uri": "https://localhost:8080/",
          "height": 112
        },
        "outputId": "0c5e44a7-5af8-4ee4-e3c5-d0e4c4542522"
      },
      "source": [
        "pd.merge(df1, df2, on = \"C\", left_index = True, right_index = True)"
      ],
      "execution_count": 177,
      "outputs": [
        {
          "output_type": "execute_result",
          "data": {
            "text/html": [
              "<div>\n",
              "<style scoped>\n",
              "    .dataframe tbody tr th:only-of-type {\n",
              "        vertical-align: middle;\n",
              "    }\n",
              "\n",
              "    .dataframe tbody tr th {\n",
              "        vertical-align: top;\n",
              "    }\n",
              "\n",
              "    .dataframe thead th {\n",
              "        text-align: right;\n",
              "    }\n",
              "</style>\n",
              "<table border=\"1\" class=\"dataframe\">\n",
              "  <thead>\n",
              "    <tr style=\"text-align: right;\">\n",
              "      <th></th>\n",
              "      <th>A</th>\n",
              "      <th>C</th>\n",
              "      <th>B</th>\n",
              "    </tr>\n",
              "  </thead>\n",
              "  <tbody>\n",
              "    <tr>\n",
              "      <th>b</th>\n",
              "      <td>200</td>\n",
              "      <td>250.0</td>\n",
              "      <td>150</td>\n",
              "    </tr>\n",
              "    <tr>\n",
              "      <th>d</th>\n",
              "      <td>400</td>\n",
              "      <td>150.0</td>\n",
              "      <td>50</td>\n",
              "    </tr>\n",
              "  </tbody>\n",
              "</table>\n",
              "</div>"
            ],
            "text/plain": [
              "     A      C    B\n",
              "b  200  250.0  150\n",
              "d  400  150.0   50"
            ]
          },
          "metadata": {
            "tags": []
          },
          "execution_count": 177
        }
      ]
    },
    {
      "cell_type": "markdown",
      "metadata": {
        "id": "koM2ZPXaL7iH",
        "colab_type": "text"
      },
      "source": [
        "*pandas* often provides multiple options to accomplish the same goal. If unsure of which\n",
        "to use, compare the options to verify that the best possible performance is achieved\n",
        "when time is critical. In this simple example, execution times differ by orders of\n",
        "magnitude."
      ]
    }
  ]
}